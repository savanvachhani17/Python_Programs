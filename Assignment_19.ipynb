{
 "cells": [
  {
   "cell_type": "code",
   "execution_count": null,
   "id": "87f1ae69",
   "metadata": {},
   "outputs": [],
   "source": [
    "# Python Program to Check if email address valid or not\n",
    "import re\n",
    " \n",
    "# Make a regular expression\n",
    "# for validating an Email\n",
    "regex = r'\\b[A-Za-z0-9._%+-]+@[A-Za-z0-9.-]+\\.[A-Z|a-z]{2,}\\b'\n",
    " \n",
    "# Define a function for\n",
    "# for validating an Email\n",
    " \n",
    " \n",
    "def check(email):\n",
    " \n",
    "    # pass the regular expression\n",
    "    # and the string into the fullmatch() method\n",
    "    if(re.fullmatch(regex, email)):\n",
    "        print(\"Valid Email\")\n",
    " \n",
    "    else:\n",
    "        print(\"Invalid Email\")\n",
    " "
   ]
  },
  {
   "cell_type": "code",
   "execution_count": null,
   "id": "48284232",
   "metadata": {},
   "outputs": [],
   "source": [
    "# Python program to find files having a particular extension using RegEx\n",
    "import re \n",
    "def search(ip_file):\n",
    "    for fnames in ip_file: \n",
    "        search_ext = re.search(\"\\.txt$\", fnames) \n",
    "        if search_ext: \n",
    "            print(\"File with extension .txt is:\", fnames) \n",
    "ip_file = [\"py.html\", \"python.xml\", \"py.rar\", \"py.txt\", \"python.jpg\"]\n",
    "search(ip_file)"
   ]
  },
  {
   "cell_type": "code",
   "execution_count": null,
   "id": "09a3e828",
   "metadata": {},
   "outputs": [],
   "source": [
    "# Python program to extract IP address from file\n",
    "import re\n",
    " \n",
    "# opening and reading the file\n",
    "with open(r'C:\\Users\\ANKIA\\Downloads\\Data Analyst ineuron\\Question Answer\\Python\\info.txt') as fh:\n",
    "   fstring = fh.readlines()\n",
    " \n",
    "# declaring the regex pattern for IP addresses\n",
    "pattern = re.compile(r'(\\d{1,3}\\.\\d{1,3}\\.\\d{1,3}\\.\\d{1,3})')\n",
    " \n",
    "# initializing the list object\n",
    "lst=[]\n",
    " \n",
    "# extracting the IP addresses\n",
    "for line in fstring:\n",
    "   lst.append(pattern.search(line)[0])\n",
    " \n",
    "# displaying the extracted IP addresses\n",
    "print(lst)"
   ]
  },
  {
   "cell_type": "code",
   "execution_count": 4,
   "id": "8f6e63f3",
   "metadata": {},
   "outputs": [
    {
     "name": "stdout",
     "output_type": "stream",
     "text": [
      "Enter the password: 01Fs#!@\n",
      "Password is valid\n"
     ]
    }
   ],
   "source": [
    "# Python program to check the validity of a Password\n",
    "import re\n",
    "flag = 0\n",
    "passwd = input (\"Enter the password: \")\n",
    "if not re.search('[0-9]', passwd):\n",
    "    flag = 1\n",
    "\n",
    "if not re.search('[a-z]', passwd):\n",
    "    flag = 1\n",
    "\n",
    "if not re.search('[A-Z]', passwd):\n",
    "    flag = 1\n",
    "    \n",
    "if not re.search('[$@#!]', passwd):\n",
    "    flag = 1\n",
    "\n",
    "if len(passwd)<6:\n",
    "    flag = 1\n",
    "    \n",
    "if (flag == 0):\n",
    "    print ('Password is valid')\n",
    "else:\n",
    "    print ('Password is invalid')"
   ]
  },
  {
   "cell_type": "code",
   "execution_count": null,
   "id": "e8ae5f77",
   "metadata": {},
   "outputs": [],
   "source": [
    "# Categorize Password as Strong or Weak using Regex in Python\n",
    "import re \n",
    "\n",
    "def check(pwd): \n",
    "\n",
    "    if pwd == \"\\n\" or pwd == \" \": \n",
    "        return \"Password must not contain a newline or space!\"\n",
    " \n",
    "    if 8 <= len(pwd) <= 15: \n",
    "        if not re.search('[a-z]', pwd):\n",
    "            print(\"Weak Password! At least one lowercase alphabet should be present!\")\n",
    "        elif not re.search('[A-Z]', pwd): \n",
    "            print(\"Weak Password! At least one uppercase alphabet should be present!\") \n",
    "        elif not re.search('[0-9]', pwd): \n",
    "            print(\"Weak Password! At least one digit should be present!\")\n",
    "        elif not re.search('[_@$]', pwd): \n",
    "            print(\"Weak Password! At least one special char should be present!\")\n",
    "        elif re.search(r'(.)\\1\\1\\1', pwd): \n",
    "            print(\"Weak Password! Char repetition more than 3 times!\")\n",
    "        elif re.search(r'(..)(.*?)\\1', pwd): \n",
    "            print(\"Weak Password! String pattern repetition!\")\n",
    "        else: \n",
    "            print(\"The given password is a strong password!\")\n",
    "   \n",
    "    else: \n",
    "        print(\"Weak Password! Password must be 8 to 15 characters long! \")\n",
    "        \n",
    "ip_str = input(\"Enter the string: \")\n",
    "check(ip_str)"
   ]
  },
  {
   "cell_type": "code",
   "execution_count": null,
   "id": "a12435ac",
   "metadata": {},
   "outputs": [],
   "source": [
    "# Python program to read file word by word\n",
    "with open('info.txt','r') as txtfile:   \n",
    "\n",
    "#Reading lines of file     \n",
    "\n",
    "    for readline in txtfile: \n",
    "\n",
    "#Read and print the words        \n",
    "\n",
    "        for str in readline.split():           \n",
    "\n",
    "            print(str)"
   ]
  },
  {
   "cell_type": "code",
   "execution_count": null,
   "id": "0b9493c2",
   "metadata": {},
   "outputs": [],
   "source": [
    "# Python program to read character by character from a file\n",
    "file = open('info.txt', 'r')\n",
    "print(file.read())\n",
    "\n",
    "while 1:\n",
    "    char = file.read(1)          # read by character\n",
    "    if not char: break\n",
    "    print(char)\n",
    "\n",
    "file.close()"
   ]
  },
  {
   "cell_type": "code",
   "execution_count": null,
   "id": "681ea0d1",
   "metadata": {},
   "outputs": [],
   "source": [
    "# Python – Get number of characters, words, spaces and lines in a file\n",
    "fname = input(\"Enter the name of the file:\") \n",
    "infile = open(fname, 'r') \n",
    "lines = 0 \n",
    "words = 0 \n",
    "characters = 0 \n",
    "for line in infile: \n",
    "    wordslist = line.split() \n",
    "    lines = lines + 1 \n",
    "    words = words + len(wordslist) \n",
    "    characters = characters + len(line) \n",
    "print(lines) \n",
    "print(words) \n",
    "print(characters) "
   ]
  },
  {
   "cell_type": "code",
   "execution_count": 1,
   "id": "f8fd1dac",
   "metadata": {},
   "outputs": [
    {
     "name": "stdout",
     "output_type": "stream",
     "text": [
      "8 has occurred 5 times\n"
     ]
    }
   ],
   "source": [
    "# Python program to Count the Number of occurrences of a key-value pair in a text file\n",
    "def countX(lst, x):\n",
    "    count = 0\n",
    "    for ele in lst:\n",
    "        if (ele == x):\n",
    "            count = count + 1\n",
    "    return count\n",
    " \n",
    "# Driver Code\n",
    "lst = [8, 6, 8, 10, 8, 20, 10, 8, 8]\n",
    "x = 8\n",
    "print('{} has occurred {} times'.format(x, countX(lst, x)))"
   ]
  },
  {
   "cell_type": "code",
   "execution_count": null,
   "id": "ce9f26e8",
   "metadata": {},
   "outputs": [],
   "source": [
    "# Python | Finding ‘n’ Character Words in a Text File\n",
    "open_file = open(\"info.txt\", \"r\") \n",
    "char = \"\" \n",
    "res = 1\n",
    "while 1: \n",
    "    tmp = open_file.read(1) \n",
    "    if res <= 4: \n",
    "        char = char + tmp \n",
    "\n",
    "    if res > 4: \n",
    "        if tmp ==\" \": \n",
    "            res = 0\n",
    "            if len(char) > 0: \n",
    "                print(char) \n",
    "                char =\"\" \n",
    "        elif tmp !=\" \": \n",
    "            char =\"\" \n",
    "    res = res + 1\n",
    " \n",
    "    if not tmp: \n",
    "        break\n",
    "\n",
    "open_file.close()"
   ]
  }
 ],
 "metadata": {
  "kernelspec": {
   "display_name": "Python 3 (ipykernel)",
   "language": "python",
   "name": "python3"
  },
  "language_info": {
   "codemirror_mode": {
    "name": "ipython",
    "version": 3
   },
   "file_extension": ".py",
   "mimetype": "text/x-python",
   "name": "python",
   "nbconvert_exporter": "python",
   "pygments_lexer": "ipython3",
   "version": "3.9.7"
  }
 },
 "nbformat": 4,
 "nbformat_minor": 5
}
