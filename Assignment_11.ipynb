{
 "cells": [
  {
   "cell_type": "code",
   "execution_count": 7,
   "id": "77e823ee",
   "metadata": {},
   "outputs": [
    {
     "name": "stdout",
     "output_type": "stream",
     "text": [
      "The sorted dictionary:{'Savan': [3, 6, 7], 'best': [5, 10, 18], 'is': [1, 2, 4]}\n"
     ]
    }
   ],
   "source": [
    "# Python – Sort Dictionary key and values List\n",
    "test_dict={'Savan':[7,6,3],'is':[1,4,2],'best':[18,5,10]}\n",
    "re=dict()\n",
    "\n",
    "for key in sorted(test_dict):\n",
    "    re[key]=sorted(test_dict[key])\n",
    "print('The sorted dictionary:'+str(re))"
   ]
  },
  {
   "cell_type": "code",
   "execution_count": 5,
   "id": "8e0f4e6c",
   "metadata": {},
   "outputs": [
    {
     "data": {
      "text/plain": [
       "[7, 6, 3]"
      ]
     },
     "execution_count": 5,
     "metadata": {},
     "output_type": "execute_result"
    }
   ],
   "source": [
    "test_dict={'Savan':[7,6,3],'is':[1,4,2],'best':[18,5,10]}\n",
    "sorted(test_dict)\n",
    "test_dict['Savan']\n"
   ]
  },
  {
   "cell_type": "code",
   "execution_count": 7,
   "id": "a5a242a8",
   "metadata": {},
   "outputs": [
    {
     "name": "stdout",
     "output_type": "stream",
     "text": [
      "0091\n",
      "Not Found\n"
     ]
    }
   ],
   "source": [
    "# Handling missing keys in Python dictionaries\n",
    "\n",
    "country_code = {'India' : '0091',\n",
    "                'Australia' : '0025',\n",
    "                'Nepal' : '00977'}\n",
    "print(country_code.get('India'))\n",
    "print(country_code.get('Japan', 'Not Found'))"
   ]
  },
  {
   "cell_type": "code",
   "execution_count": 9,
   "id": "60a580bd",
   "metadata": {},
   "outputs": [
    {
     "name": "stdout",
     "output_type": "stream",
     "text": [
      "{(10, 20, 30): 0, (5, 2, 4): 3}\n"
     ]
    }
   ],
   "source": [
    "# Q3\n",
    "dict = {}\n",
    " \n",
    "\n",
    "x, y, z = 10, 20, 30\n",
    "dict[x, y, z] = x + y - z;\n",
    " \n",
    "\n",
    "x, y, z = 5, 2, 4\n",
    "dict[x, y, z] = x + y - z;\n",
    " \n",
    "\n",
    "print(dict)"
   ]
  },
  {
   "cell_type": "code",
   "execution_count": 10,
   "id": "91201315",
   "metadata": {},
   "outputs": [
    {
     "name": "stdout",
     "output_type": "stream",
     "text": [
      "cat tac act dog god \n"
     ]
    }
   ],
   "source": [
    "# Print anagrams together in Python using List and Dictionary\n",
    "def allAnagram(input): \n",
    "      \n",
    " \n",
    "    dict = {} \n",
    "  \n",
    "   \n",
    "    for strVal in input: \n",
    "          \n",
    "       \n",
    "        key = ''.join(sorted(strVal)) \n",
    "          \n",
    "      \n",
    "        if key in dict.keys(): \n",
    "            dict[key].append(strVal) \n",
    "        else: \n",
    "            dict[key] = [] \n",
    "            dict[key].append(strVal) \n",
    "  \n",
    "  \n",
    "    output = \"\" \n",
    "    for key,value in dict.items(): \n",
    "        output = output + ' '.join(value) + ' '\n",
    "  \n",
    "    return output \n",
    "  \n",
    "\n",
    "if __name__ == \"__main__\": \n",
    "    input=['cat', 'dog', 'tac', 'god', 'act'] \n",
    "    print (allAnagram(input)) "
   ]
  },
  {
   "cell_type": "code",
   "execution_count": 11,
   "id": "4ef644bb",
   "metadata": {},
   "outputs": [
    {
     "name": "stdout",
     "output_type": "stream",
     "text": [
      "The original string is : IneuronIsBest\n",
      "The string after removal of i'th character : InuronIsBest\n"
     ]
    }
   ],
   "source": [
    "# K’th Non-repeating Character in Python using List Comprehension and OrderedDict\n",
    "test_str = \"IneuronIsBest\"\n",
    "  \n",
    "\n",
    "print (\"The original string is : \" + test_str)\n",
    "  \n",
    "\n",
    "new_str = \"\"\n",
    "  \n",
    "for i in range(len(test_str)):\n",
    "    if i != 2:\n",
    "        new_str = new_str + test_str[i]\n",
    "  \n",
    " \n",
    "print (\"The string after removal of i'th character : \" + new_str)"
   ]
  },
  {
   "cell_type": "code",
   "execution_count": 1,
   "id": "b8e9b6c2",
   "metadata": {},
   "outputs": [
    {
     "name": "stdout",
     "output_type": "stream",
     "text": [
      "Yes\n"
     ]
    }
   ],
   "source": [
    "# Check if binary representations of two numbers are anagram\n",
    "from collections import Counter\n",
    "  \n",
    "def checkAnagram(num1,num2):\n",
    "  \n",
    "    \n",
    "    bin1 = bin(num1)[2:]\n",
    "    bin2 = bin(num2)[2:]\n",
    "  \n",
    "    \n",
    "    zeros = abs(len(bin1)-len(bin2))\n",
    "    if (len(bin1)>len(bin2)):\n",
    "         bin2 = zeros * '0' + bin2\n",
    "    else:\n",
    "         bin1 = zeros * '0' + bin1\n",
    "  \n",
    "  \n",
    "    dict1 = Counter(bin1)\n",
    "    dict2 = Counter(bin2)\n",
    "  \n",
    " \n",
    "    if dict1 == dict2:\n",
    "         print('Yes')\n",
    "    else:\n",
    "         print('No')\n",
    "  \n",
    "\n",
    "if __name__ == \"__main__\":\n",
    "    num1 = 8\n",
    "    num2 = 4\n",
    "    checkAnagram(num1,num2)"
   ]
  },
  {
   "cell_type": "code",
   "execution_count": 2,
   "id": "2bb734d4",
   "metadata": {},
   "outputs": [
    {
     "name": "stdout",
     "output_type": "stream",
     "text": [
      "3\n"
     ]
    }
   ],
   "source": [
    "# Python Counter to find the size of largest subset of anagram words\n",
    "from collections import Counter\n",
    "  \n",
    "def maxAnagramSize(input):\n",
    "  \n",
    "    input = input.split(\" \")\n",
    "  \n",
    "\n",
    "    for i in range(0,len(input)):\n",
    "         input[i]=''.join(sorted(input[i]))\n",
    "  \n",
    "  \n",
    "    freqDict = Counter(input)\n",
    "\n",
    "    print (max(freqDict.values()))\n",
    "  \n",
    "\n",
    "if __name__ == \"__main__\":\n",
    "    input = 'ant magenta magnate tan gnamate'\n",
    "    maxAnagramSize(input)"
   ]
  },
  {
   "cell_type": "code",
   "execution_count": 4,
   "id": "cf283ca0",
   "metadata": {},
   "outputs": [
    {
     "name": "stdout",
     "output_type": "stream",
     "text": [
      "Python is great and Matlab also\n"
     ]
    }
   ],
   "source": [
    "# Python | Remove all duplicates words from a given sentence\n",
    "from collections import Counter\n",
    " \n",
    "def remov_duplicates(input):\n",
    " \n",
    "    input = input.split(\" \")\n",
    " \n",
    "    for i in range(0, len(input)):\n",
    "        input[i] = \"\".join(input[i])\n",
    " \n",
    "    UniqW = Counter(input)\n",
    " \n",
    "    s = \" \".join(UniqW.keys())\n",
    "    print (s)\n",
    " \n",
    "\n",
    "if __name__ == \"__main__\":\n",
    "    input = 'Python is great and Matlab is also great'\n",
    "    remov_duplicates(input)"
   ]
  },
  {
   "cell_type": "code",
   "execution_count": 7,
   "id": "559b2684",
   "metadata": {},
   "outputs": [
    {
     "name": "stdout",
     "output_type": "stream",
     "text": [
      " 1 :  5\n",
      " 5 :  2\n",
      " 3 :  3\n",
      " 4 :  3\n",
      " 2 :  4\n"
     ]
    }
   ],
   "source": [
    "# Counting the frequencies in a list using dictionary in Python\n",
    "def CountFrequency(my_list):\n",
    " \n",
    "    freq = {}\n",
    "    for item in my_list:\n",
    "        if (item in freq):\n",
    "            freq[item] += 1\n",
    "        else:\n",
    "            freq[item] = 1\n",
    " \n",
    "    for key, value in freq.items():\n",
    "        print (\"% d : % d\"%(key, value))\n",
    " \n",
    "\n",
    "if __name__ == \"__main__\":\n",
    "    my_list =[1, 1, 1, 5, 5, 3, 1, 3, 3, 1, 4, 4, 4, 2, 2, 2, 2]\n",
    " \n",
    "    CountFrequency(my_list)"
   ]
  },
  {
   "cell_type": "code",
   "execution_count": null,
   "id": "4701628e",
   "metadata": {},
   "outputs": [],
   "source": [
    "# Python Dictionary to find mirror characters in a string\n",
    "def mirror(term,n): \n",
    "    start = 'abcdefghijklmnopqrstuvwxyz'\n",
    "    mirr = 'zyxwvutsrqponmlkjihgfedcba'\n",
    "    mchars = dict(zip(start,mirr))\n",
    "    aft = term[n-1:] \n",
    "    nstr = \"\"\n",
    "    for i in range(0,len(aft)): \n",
    "        nstr = nstr + mchars[aft[i]] \n",
    "        print (bef+nstr)   \n",
    "    \n",
    "if __name__ == \"__main__\": \n",
    "    term = \"Himanshu\"\n",
    "    n = 4\n",
    "    mirror(term,n)"
   ]
  }
 ],
 "metadata": {
  "kernelspec": {
   "display_name": "Python 3 (ipykernel)",
   "language": "python",
   "name": "python3"
  },
  "language_info": {
   "codemirror_mode": {
    "name": "ipython",
    "version": 3
   },
   "file_extension": ".py",
   "mimetype": "text/x-python",
   "name": "python",
   "nbconvert_exporter": "python",
   "pygments_lexer": "ipython3",
   "version": "3.9.7"
  }
 },
 "nbformat": 4,
 "nbformat_minor": 5
}
