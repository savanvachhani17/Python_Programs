{
 "cells": [
  {
   "cell_type": "code",
   "execution_count": 3,
   "id": "f8063d6d",
   "metadata": {},
   "outputs": [
    {
     "name": "stdout",
     "output_type": "stream",
     "text": [
      "Enter the number 11\n",
      "9\n"
     ]
    }
   ],
   "source": [
    "# Python Program for Find reminder of array multiplication divided by n\n",
    "n=int(input('Enter the number '))\n",
    "list_1=[100,10,5,25,35,14]\n",
    "total=1\n",
    "for i in list_1:\n",
    "    total=total*i\n",
    "print(total%n)"
   ]
  },
  {
   "cell_type": "code",
   "execution_count": 18,
   "id": "d616702c",
   "metadata": {},
   "outputs": [
    {
     "name": "stdout",
     "output_type": "stream",
     "text": [
      "True\n"
     ]
    }
   ],
   "source": [
    "# Python Program to check if given array is Monotonic\n",
    "def isMonotonic(A):\n",
    "  \n",
    "    return (all(A[i] <= A[i + 1] for i in range(len(A) - 1)) or\n",
    "            all(A[i] >= A[i + 1] for i in range(len(A) - 1)))\n",
    "  \n",
    "A = [6, 5, 4, 4]\n",
    "  \n",
    "print(isMonotonic(A))"
   ]
  },
  {
   "cell_type": "code",
   "execution_count": 23,
   "id": "85407471",
   "metadata": {},
   "outputs": [
    {
     "name": "stdout",
     "output_type": "stream",
     "text": [
      "[14, 15, 30, 10]\n"
     ]
    },
    {
     "data": {
      "text/plain": [
       "'temp=a[0]\\na[0]=a[len(a)-1]\\na[len(a)-1]=temp\\nprint(a)'"
      ]
     },
     "execution_count": 23,
     "metadata": {},
     "output_type": "execute_result"
    }
   ],
   "source": [
    "# Python program to interchange first and last elements in a list\n",
    "a=[10,15,30,14]\n",
    "a[0],a[-1]=a[-1],a[0]\n",
    "print(a)\n",
    "'''temp=a[0]\n",
    "a[0]=a[len(a)-1]\n",
    "a[len(a)-1]=temp\n",
    "print(a)'''"
   ]
  },
  {
   "cell_type": "code",
   "execution_count": 8,
   "id": "d8dc31fe",
   "metadata": {},
   "outputs": [
    {
     "name": "stdout",
     "output_type": "stream",
     "text": [
      "[4, 5, 10, 20]\n",
      "[20, 10, 5, 4]\n"
     ]
    }
   ],
   "source": [
    "# Python program to swap two elements in a list\n",
    "c=[4,5,10,20]\n",
    "print(c)\n",
    "c[0],c[3],c[1],c[2]=c[-1],c[-4], c[-2], c[-3]\n",
    "print(c)\n"
   ]
  },
  {
   "cell_type": "code",
   "execution_count": 13,
   "id": "194c32a7",
   "metadata": {},
   "outputs": [
    {
     "name": "stdout",
     "output_type": "stream",
     "text": [
      "8\n"
     ]
    }
   ],
   "source": [
    "# write a program to find length of list\n",
    "list_2=[10,20,40,30,50,10,19,19]\n",
    "total=0\n",
    "for i in list_2:\n",
    "    total=total+1\n",
    "print(total)"
   ]
  },
  {
   "cell_type": "code",
   "execution_count": 1,
   "id": "07eef2c6",
   "metadata": {},
   "outputs": [
    {
     "name": "stdout",
     "output_type": "stream",
     "text": [
      "Enter a number to check if element exists in list 8\n",
      "[10, 20, 30, 40]\n",
      "8 Does not exist\n"
     ]
    }
   ],
   "source": [
    "# write a program to check if element exists in list\n",
    "list_1=[10,20,30,40]\n",
    "list_2=int(input('Enter a number to check if element exists in list '))\n",
    "print(list_1)\n",
    "if list_2 in list_1:\n",
    "    print(list_2,'Exist')\n",
    "else:\n",
    "    print(list_2,'Does not exist')"
   ]
  },
  {
   "cell_type": "code",
   "execution_count": 3,
   "id": "251dc6e6",
   "metadata": {},
   "outputs": [
    {
     "name": "stdout",
     "output_type": "stream",
     "text": [
      "None\n"
     ]
    }
   ],
   "source": [
    "# write a program to clear a list in Python\n",
    "list_1=[1,5,8,10]\n",
    "print(list_1.clear())"
   ]
  },
  {
   "cell_type": "code",
   "execution_count": 10,
   "id": "e3dfb0f0",
   "metadata": {},
   "outputs": [
    {
     "name": "stdout",
     "output_type": "stream",
     "text": [
      "[9, 4, 10, 6, 5, 1]\n"
     ]
    }
   ],
   "source": [
    "# write a program to Reversing a List\n",
    "def reverse_list(lst):\n",
    "    lst.reverse()\n",
    "    return lst\n",
    "    \n",
    "lst=[1,5,6,10,4,9]\n",
    "\n",
    "print(reverse_list(lst))"
   ]
  },
  {
   "cell_type": "code",
   "execution_count": 19,
   "id": "f4c57239",
   "metadata": {},
   "outputs": [
    {
     "name": "stdout",
     "output_type": "stream",
     "text": [
      "70\n"
     ]
    }
   ],
   "source": [
    "# write a program to find sum of elements in list\n",
    "item=[20,10,40]\n",
    "total=0\n",
    "for i in range(len(item)):\n",
    "    total=total+item[i]\n",
    "print(total)"
   ]
  },
  {
   "cell_type": "code",
   "execution_count": 20,
   "id": "9356ed4a",
   "metadata": {},
   "outputs": [
    {
     "name": "stdout",
     "output_type": "stream",
     "text": [
      "8000\n"
     ]
    }
   ],
   "source": [
    "# write a program to Multiply all numbers in the list\n",
    "item=[20,10,40]\n",
    "total=1\n",
    "for i in range(len(item)):\n",
    "    total=total*item[i]\n",
    "print(total)"
   ]
  },
  {
   "cell_type": "code",
   "execution_count": null,
   "id": "b6e69f85",
   "metadata": {},
   "outputs": [],
   "source": []
  }
 ],
 "metadata": {
  "kernelspec": {
   "display_name": "Python 3",
   "language": "python",
   "name": "python3"
  },
  "language_info": {
   "codemirror_mode": {
    "name": "ipython",
    "version": 3
   },
   "file_extension": ".py",
   "mimetype": "text/x-python",
   "name": "python",
   "nbconvert_exporter": "python",
   "pygments_lexer": "ipython3",
   "version": "3.8.8"
  }
 },
 "nbformat": 4,
 "nbformat_minor": 5
}
