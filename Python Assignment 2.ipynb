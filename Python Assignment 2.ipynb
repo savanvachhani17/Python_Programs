{
 "cells": [
  {
   "cell_type": "code",
   "execution_count": 1,
   "id": "e90b5d82",
   "metadata": {},
   "outputs": [
    {
     "name": "stdout",
     "output_type": "stream",
     "text": [
      "1\n",
      "1\n",
      "2\n",
      "3\n",
      "5\n",
      "8\n",
      "13\n",
      "21\n",
      "34\n"
     ]
    }
   ],
   "source": [
    "# Python Program for n-th Fibonacci number\n",
    "\n",
    "def fibonocci(n):\n",
    "    if n==1:\n",
    "        return 1\n",
    "    elif n==2:\n",
    "        return 1\n",
    "    else:\n",
    "        return fibonocci(n-1)+fibonocci(n-2)\n",
    "\n",
    "for n in range(1,10):\n",
    "    print(fibonocci(n))"
   ]
  },
  {
   "cell_type": "code",
   "execution_count": 4,
   "id": "2bfeaa0c",
   "metadata": {},
   "outputs": [
    {
     "name": "stdout",
     "output_type": "stream",
     "text": [
      "1 is a Fibonacci Number\n",
      "2 is a Fibonacci Number\n",
      "3 is a Fibonacci Number\n",
      "4 is a not Fibonacci Number \n",
      "5 is a Fibonacci Number\n",
      "6 is a not Fibonacci Number \n",
      "7 is a not Fibonacci Number \n",
      "8 is a Fibonacci Number\n",
      "9 is a not Fibonacci Number \n",
      "10 is a not Fibonacci Number \n"
     ]
    }
   ],
   "source": [
    "# Python Program for How to check if a given number is Fibonacci number?\n",
    "\n",
    "import math\n",
    "\n",
    "def isPerfectSquare(x):\n",
    "    s = int(math.sqrt(x))\n",
    "    return s*s == x\n",
    "\n",
    "def isFibonacci(n):\n",
    "    return isPerfectSquare(5*n*n + 4) or isPerfectSquare(5*n*n - 4)\n",
    "\n",
    "for i in range(1,11):\n",
    "    if (isFibonacci(i) == True):\n",
    "        print(i,\"is a Fibonacci Number\")\n",
    "    else:\n",
    "        print(i,\"is a not Fibonacci Number \")"
   ]
  },
  {
   "cell_type": "code",
   "execution_count": 10,
   "id": "0713a3f4",
   "metadata": {},
   "outputs": [
    {
     "name": "stdout",
     "output_type": "stream",
     "text": [
      "Position of n'th multiple of k in Fibonacci Series is 30\n"
     ]
    }
   ],
   "source": [
    "# Python Program for nth multiple of a number in Fibonacci Series\n",
    "\n",
    "def findPosition(k, n):\n",
    "    f1 = 0\n",
    "    f2 = 1\n",
    "    i =2;\n",
    "    while i!=0:\n",
    "        f3 = f1 + f2;\n",
    "        f1 = f2;\n",
    "        f2 = f3;\n",
    " \n",
    "        if f2%k == 0:\n",
    "            return n*i\n",
    " \n",
    "        i+=1\n",
    "         \n",
    "    return\n",
    " \n",
    "n = 5;\n",
    "k = 4;\n",
    " \n",
    "print(\"Position of n\\'th multiple of k in \"\n",
    "                \"Fibonacci Series is\", findPosition(k,n));\n"
   ]
  },
  {
   "cell_type": "code",
   "execution_count": 6,
   "id": "5c636a9d",
   "metadata": {},
   "outputs": [
    {
     "name": "stdout",
     "output_type": "stream",
     "text": [
      "Enter a character g\n",
      "The ASCII value of g is 103\n"
     ]
    }
   ],
   "source": [
    "# ord() : It coverts the given string of length one, return an integer representing the unicode code point of the character. For example, ord(‘a’) returns the integer 97.\n",
    "# Program to print ASCII Value of a character\n",
    "a=str(input('Enter a character '))\n",
    "print('The ASCII value of '+a+ ' is', ord(a))"
   ]
  },
  {
   "cell_type": "code",
   "execution_count": 10,
   "id": "c6a159b2",
   "metadata": {},
   "outputs": [
    {
     "name": "stdout",
     "output_type": "stream",
     "text": [
      "Enter the number 4\n",
      "14\n"
     ]
    }
   ],
   "source": [
    "# Python Program for Sum of squares of first n natural numbers\n",
    "n=int(input('Enter the number '))\n",
    "sum=0\n",
    "for i in range(1,n):\n",
    "    sum=sum+(i**2)\n",
    "print(sum)"
   ]
  },
  {
   "cell_type": "code",
   "execution_count": 12,
   "id": "292a3ca7",
   "metadata": {},
   "outputs": [
    {
     "name": "stdout",
     "output_type": "stream",
     "text": [
      "Enter the number 3\n",
      "27\n"
     ]
    }
   ],
   "source": [
    "# Python Program for cube sum of first n natural numbers\n",
    "n=int(input('Enter the number '))\n",
    "sum=0\n",
    "for i in range(1,n):\n",
    "    sum=sum+i\n",
    "print(sum**3)"
   ]
  },
  {
   "cell_type": "code",
   "execution_count": 5,
   "id": "1f98ad96",
   "metadata": {},
   "outputs": [
    {
     "name": "stdout",
     "output_type": "stream",
     "text": [
      "100\n"
     ]
    }
   ],
   "source": [
    "# Python Program to find sum of array\n",
    "arr=[10,20,30,40]\n",
    "def arr_sum(arr):\n",
    "    sum=0\n",
    "    for i in range(len(arr)):\n",
    "        sum=sum+arr[i]\n",
    "    return sum\n",
    "print(arr_sum(arr))"
   ]
  },
  {
   "cell_type": "code",
   "execution_count": 8,
   "id": "dab8ec36",
   "metadata": {},
   "outputs": [
    {
     "name": "stdout",
     "output_type": "stream",
     "text": [
      "240\n"
     ]
    }
   ],
   "source": [
    "# Python Program to find largest element in an array\n",
    "\n",
    "lar_arr=[20,100,240,50]\n",
    "max_arr=lar_arr[0]\n",
    "def lar_el(max_arr):\n",
    "    for i in range(1,len(lar_arr)):\n",
    "        if lar_arr[i]>max_arr:\n",
    "            max_arr=lar_arr[i]\n",
    "    print(max_arr)\n",
    "\n",
    "lar_el(max_arr)"
   ]
  },
  {
   "cell_type": "code",
   "execution_count": 6,
   "id": "b035fb8a",
   "metadata": {},
   "outputs": [
    {
     "name": "stdout",
     "output_type": "stream",
     "text": [
      "[3, 4, 5, 6, 7, 1, 2]\n",
      "None\n"
     ]
    }
   ],
   "source": [
    "# Python Program for array rotation\n",
    "\n",
    "def array_rotation(arr,n,d):\n",
    "    temp=[]\n",
    "    i=0\n",
    "    while i<d:\n",
    "        temp.append(arr[i])\n",
    "        i=i+1\n",
    "    i=0\n",
    "    while d<n:\n",
    "        arr[i]=arr[d]\n",
    "        i=i+1\n",
    "        d=d+1\n",
    "    print(arr[:i]+temp)    \n",
    "              \n",
    "arr=[1,2,3,4,5,6,7]\n",
    "print(array_rotation(arr,len(arr),2))"
   ]
  },
  {
   "cell_type": "code",
   "execution_count": 7,
   "id": "140a1ea5",
   "metadata": {},
   "outputs": [
    {
     "name": "stdout",
     "output_type": "stream",
     "text": [
      "[30, 40, 50, 10, 20]\n",
      "None\n"
     ]
    }
   ],
   "source": [
    "# Python Program for Reversal algorithm for array rotation\n",
    "\n",
    "def array_rotation(arr,n,d):\n",
    "    temp=[]\n",
    "    i=0\n",
    "    while i<d:\n",
    "        temp.append(arr[i])\n",
    "        i=i+1\n",
    "    i=0\n",
    "    while d<n:\n",
    "        arr[i]=arr[d]\n",
    "        i=i+1\n",
    "        d=d+1\n",
    "    print(arr[:i]+temp)    \n",
    "              \n",
    "arr=[10,20,30,40,50]\n",
    "print(array_rotation(arr,len(arr),2))"
   ]
  },
  {
   "cell_type": "code",
   "execution_count": 8,
   "id": "9c4585a7",
   "metadata": {},
   "outputs": [
    {
     "name": "stdout",
     "output_type": "stream",
     "text": [
      "5 6 52 36 12 10 "
     ]
    }
   ],
   "source": [
    "# Python Program to Split the array and add the first part to the end\n",
    "\n",
    "def splitArr(arr, n, k): \n",
    "    for i in range(0, k): \n",
    "        x = arr[0]\n",
    "        for j in range(0, n-1):\n",
    "            arr[j] = arr[j + 1]\n",
    "          \n",
    "        arr[n-1] = x\n",
    "          \n",
    "arr = [12, 10, 5, 6, 52, 36]\n",
    "n = len(arr)\n",
    "position = 2\n",
    "  \n",
    "splitArr(arr, n, position)\n",
    "  \n",
    "for i in range(0, n): \n",
    "    print(arr[i], end = ' ')\n",
    "   \n"
   ]
  },
  {
   "cell_type": "code",
   "execution_count": null,
   "id": "2eafb365",
   "metadata": {},
   "outputs": [],
   "source": []
  }
 ],
 "metadata": {
  "kernelspec": {
   "display_name": "Python 3",
   "language": "python",
   "name": "python3"
  },
  "language_info": {
   "codemirror_mode": {
    "name": "ipython",
    "version": 3
   },
   "file_extension": ".py",
   "mimetype": "text/x-python",
   "name": "python",
   "nbconvert_exporter": "python",
   "pygments_lexer": "ipython3",
   "version": "3.8.8"
  }
 },
 "nbformat": 4,
 "nbformat_minor": 5
}
