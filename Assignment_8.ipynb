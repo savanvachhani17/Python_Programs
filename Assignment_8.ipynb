{
 "cells": [
  {
   "cell_type": "code",
   "execution_count": 22,
   "id": "45350d31",
   "metadata": {},
   "outputs": [
    {
     "name": "stdout",
     "output_type": "stream",
     "text": [
      "The original string is: Helloraja\n",
      "The minimum of all characters is : H\n"
     ]
    }
   ],
   "source": [
    "# Python – Least Frequent Character in String\n",
    "string='Helloraja'\n",
    "print('The original string is: ' +string)\n",
    "\n",
    "all_freq = {}\n",
    "for i in string:\n",
    "    if i in all_freq:\n",
    "        all_freq[i] += 1\n",
    "    else:\n",
    "        all_freq[i] = 1\n",
    "res = min(all_freq, key = all_freq.get) \n",
    "  \n",
    "print (\"The minimum of all characters is : \" + str(res))"
   ]
  },
  {
   "cell_type": "code",
   "execution_count": 25,
   "id": "f221b901",
   "metadata": {},
   "outputs": [
    {
     "name": "stdout",
     "output_type": "stream",
     "text": [
      "The original string is : Iam working from Canada\n",
      "The maximum of all characters is : a\n"
     ]
    }
   ],
   "source": [
    "# Python | Maximum frequency character in String\n",
    "test_str = \"Iam working from Canada\"\n",
    "\n",
    "print (\"The original string is : \" + test_str)\n",
    "  \n",
    "\n",
    "all_freq = {}\n",
    "for i in test_str:\n",
    "    if i in all_freq:\n",
    "        all_freq[i] += 1\n",
    "    else:\n",
    "        all_freq[i] = 1\n",
    "res = max(all_freq, key = all_freq.get) \n",
    "      \n",
    "print (\"The maximum of all characters is : \" + str(res))"
   ]
  },
  {
   "cell_type": "code",
   "execution_count": 28,
   "id": "7e9302bd",
   "metadata": {},
   "outputs": [
    {
     "name": "stdout",
     "output_type": "stream",
     "text": [
      "String is not accepted.\n"
     ]
    }
   ],
   "source": [
    "# Python | Program to check if a string contains any special character\n",
    "import re\n",
    "  \n",
    "def run(string):\n",
    "  \n",
    "    regex = re.compile('[@_!#$%^&*()<>?/\\|}{~:]')\n",
    "      \n",
    "        \n",
    "    if(regex.search(string) == None):\n",
    "        print(\"String is accepted\")\n",
    "          \n",
    "    else:\n",
    "        print(\"String is not accepted.\")\n",
    "if __name__ == '__main__' :\n",
    "    \n",
    "    string = \"Rajakirani#\"\n",
    "    run(string)"
   ]
  },
  {
   "cell_type": "code",
   "execution_count": 32,
   "id": "a8f04791",
   "metadata": {},
   "outputs": [
    {
     "name": "stdout",
     "output_type": "stream",
     "text": [
      ", 8O\n",
      "7r5U\n",
      "p1my\n",
      "jo!D\n",
      ",OLs\n",
      "ml,6\n",
      "g;oV\n",
      "mEtU\n",
      "xBgg\n",
      "qxMu\n",
      "mY!C\n",
      "GEY5\n",
      "OTtZ\n",
      "Z6VH\n",
      "iR3B\n",
      "mk3j\n",
      "qm:L\n",
      "VyTQ\n",
      "aj T\n",
      "P7li\n",
      ".Sli\n",
      "wFci\n",
      "4U0i\n",
      "V1li\n",
      "PERi\n",
      "vu3i\n",
      "UOIi\n",
      "sJPi\n",
      "Xcli\n",
      "I.3i\n",
      "tOAi\n",
      "li4i\n",
      "!tei\n",
      "AmXi\n",
      "?fVi\n",
      "vb5i\n",
      "rzfi\n",
      "y:Ri\n",
      "K;ai\n",
      ",HTi\n",
      "zhri\n",
      "Gcri\n",
      "3J;i\n",
      "QH.i\n",
      "bbBi\n",
      "eGZi\n",
      "YIEi\n",
      "XVSi\n",
      "X8Ni\n",
      "2 oi\n",
      "Zmli\n",
      ";FPi\n",
      "?X9i\n",
      "7a6i\n",
      "YaQi\n",
      "aaRi\n",
      ".a i\n",
      "!aui\n",
      "1a5i\n",
      "2a0i\n",
      "?aQi\n",
      "uaGi\n",
      "faei\n",
      "?asi\n",
      "4awi\n",
      "Jani\n",
      "pani\n",
      "Fani\n",
      "aani\n",
      "Yani\n",
      "Pani\n",
      "!ani\n",
      "Mani\n",
      "Qani\n",
      "fani\n",
      "iani\n",
      "kani\n",
      "uani\n",
      "6ani\n",
      "2ani\n",
      "Cani\n",
      "wani\n",
      "oani\n",
      "7ani\n",
      " ani\n",
      "Bani\n",
      "iani\n",
      "cani\n",
      "oani\n",
      "jani\n",
      "uani\n",
      "Zani\n",
      "Bani\n",
      " ani\n",
      "uani\n",
      "Tani\n",
      "Jani\n",
      "yani\n",
      " ani\n",
      "sani\n",
      "nani\n",
      "4ani\n",
      "wani\n",
      "dani\n",
      "Zani\n",
      "jani\n",
      "eani\n",
      "Iani\n",
      "9ani\n",
      "mani\n",
      "1ani\n",
      " ani\n",
      "Cani\n",
      "Sani\n",
      "iani\n",
      "Rani\n",
      "Target matched after 116 iterations\n"
     ]
    }
   ],
   "source": [
    "# Generating random strings until a given string is generated\n",
    "import string\n",
    "import random\n",
    "import time\n",
    "  \n",
    "\n",
    "possibleCharacters = string.ascii_lowercase + string.digits + string.ascii_uppercase + ' ., !?;:'\n",
    "  \n",
    "\n",
    "t = \"Rani\"\n",
    "  \n",
    "\n",
    "  \n",
    "attemptThis = ''.join(random.choice(possibleCharacters)\n",
    "                                for i in range(len(t)))\n",
    "attemptNext = ''\n",
    "  \n",
    "completed = False\n",
    "iteration = 0\n",
    "  \n",
    "\n",
    "while completed == False:\n",
    "    print(attemptThis)\n",
    "      \n",
    "    attemptNext = ''\n",
    "    completed = True\n",
    "      \n",
    "    \n",
    "    for i in range(len(t)):\n",
    "        if attemptThis[i] != t[i]:\n",
    "            completed = False\n",
    "            attemptNext += random.choice(possibleCharacters)\n",
    "        else:\n",
    "            attemptNext += t[i]\n",
    "              \n",
    "    iteration += 1\n",
    "    attemptThis = attemptNext\n",
    "    time.sleep(0.1)\n",
    "  \n",
    "print(\"Target matched after \" +str(iteration) + \" iterations\")"
   ]
  },
  {
   "cell_type": "code",
   "execution_count": 20,
   "id": "328f432b",
   "metadata": {},
   "outputs": [
    {
     "name": "stdout",
     "output_type": "stream",
     "text": [
      "['Himanshu', 'Kaskar']\n"
     ]
    }
   ],
   "source": [
    "# Find words which are greater than given length k\n",
    "def length(k,y):\n",
    "    string=[]\n",
    "    test=y.split(\" \")\n",
    "    for x in test:\n",
    "        if len(x)>k:\n",
    "            string.append(x)\n",
    "    return string\n",
    "\n",
    "k=5\n",
    "y='Himanshu Ashok Kaskar'\n",
    "print(length(k,y))\n",
    "    "
   ]
  },
  {
   "cell_type": "code",
   "execution_count": 24,
   "id": "aa53985c",
   "metadata": {},
   "outputs": [
    {
     "name": "stdout",
     "output_type": "stream",
     "text": [
      "GooSavan\n"
     ]
    }
   ],
   "source": [
    "# Python program for removing i-th character from a string\n",
    "def remove(string, i): \n",
    "\n",
    "    a = string[ : i] \n",
    "      \n",
    "    b = string[i + 1: ]\n",
    "      \n",
    "    return a + b\n",
    "\n",
    "if __name__ == '__main__':\n",
    "      \n",
    "    string = \"GoodSavan\"\n",
    "\n",
    "    i = 3\n",
    "    print(remove(string, i))"
   ]
  },
  {
   "cell_type": "code",
   "execution_count": 27,
   "id": "372c8e64",
   "metadata": {},
   "outputs": [
    {
     "name": "stdout",
     "output_type": "stream",
     "text": [
      "Enter first String with space:savan\n",
      "['savan']\n",
      "Enter second String with:is\n",
      "['is']\n",
      "Enter third String with:good\n",
      "['good']\n",
      "Enter fourth String with:boy\n",
      "['boy']\n",
      "Enter fifth String without space:handsome\n",
      "['ha', 'nd', 'so', 'me']\n"
     ]
    }
   ],
   "source": [
    "# Python program to split and join a string\n",
    "str1=input(\"Enter first String with space:\")\n",
    "print(str1.split())\n",
    "\n",
    "str2=input(\"Enter second String with:\")\n",
    "print(str2.split(','))    \n",
    "\n",
    "str3=input(\"Enter third String with:\")\n",
    "print(str3.split(':'))    \n",
    "\n",
    "str4=input(\"Enter fourth String with:\")\n",
    "print(str4.split(';'))    \n",
    "\n",
    "str5=input(\"Enter fifth String without space:\")\n",
    "\n",
    "print([str5[i:i+2]for i in range(0,len(str5),2)]) "
   ]
  },
  {
   "cell_type": "code",
   "execution_count": 28,
   "id": "3b69447c",
   "metadata": {},
   "outputs": [
    {
     "name": "stdout",
     "output_type": "stream",
     "text": [
      "StringA is a binary string.\n",
      "StringB is not a binary string.\n"
     ]
    }
   ],
   "source": [
    "# Python | Check if a given string is binary string or not\n",
    "stringA = '0110101010111'\n",
    "b = {'0','1'}\n",
    "t = set(stringA)\n",
    "\n",
    "if b == t or t == {'0'} or t == {'1'}:\n",
    "    print(\"StringA is a binary string.\")\n",
    "else:\n",
    "    print(\"StringA is not a binary string.\")\n",
    "\n",
    "stringB = '0120101010111'\n",
    "u = set(stringB)\n",
    "\n",
    "if b == u or u == {'0'} or u == {'1'}:\n",
    "    print(\"StringB is a binary string.\")\n",
    "else:\n",
    "    print(\"StringB is not a binary string.\")"
   ]
  },
  {
   "cell_type": "code",
   "execution_count": 30,
   "id": "3cbeedc4",
   "metadata": {},
   "outputs": [
    {
     "name": "stdout",
     "output_type": "stream",
     "text": [
      "['Savan', 'is', 'Ineuron', 'has', 'online', 'courses']\n"
     ]
    }
   ],
   "source": [
    "# Python program to find uncommon words\n",
    "def UncommonWords(A, B):\n",
    "  \n",
    "    count = {}\n",
    "      \n",
    "    for word in A.split():\n",
    "        count[word] = count.get(word, 0) + 1\n",
    "      \n",
    "    for word in B.split():\n",
    "        count[word] = count.get(word, 0) + 1\n",
    "  \n",
    "    return [word for word in count if count[word] == 1]\n",
    "  \n",
    "A = \"Savan is best \"\n",
    "B = \"Ineuron has best online courses\"\n",
    "  \n",
    "print(UncommonWords(A, B))"
   ]
  },
  {
   "cell_type": "code",
   "execution_count": 31,
   "id": "89ab1a0d",
   "metadata": {},
   "outputs": [
    {
     "name": "stdout",
     "output_type": "stream",
     "text": [
      "The string is : \n",
      "Jane is the best . Jane loves to cook. Jane and Will cook together\n",
      "The string after replacing with values is : \n",
      "Jane is the best . She loves to cook. She and Will cook together\n"
     ]
    }
   ],
   "source": [
    "#Q10\n",
    "my_str = 'Jane is the best . Jane loves to cook. Jane and Will cook together'\n",
    "print(\"The string is : \")\n",
    "print(my_str)\n",
    "replace_dict = {'Jane' : 'She' }\n",
    "my_list = my_str.split(' ')\n",
    "my_result = ' '.join([replace_dict.get(val) if val in replace_dict.keys() and my_list.index(val) != idx else val for idx, val in enumerate(my_list)])\n",
    "print(\"The string after replacing with values is : \")\n",
    "print(my_result)"
   ]
  },
  {
   "cell_type": "code",
   "execution_count": null,
   "id": "3fd287c6",
   "metadata": {},
   "outputs": [],
   "source": []
  }
 ],
 "metadata": {
  "kernelspec": {
   "display_name": "Python 3 (ipykernel)",
   "language": "python",
   "name": "python3"
  },
  "language_info": {
   "codemirror_mode": {
    "name": "ipython",
    "version": 3
   },
   "file_extension": ".py",
   "mimetype": "text/x-python",
   "name": "python",
   "nbconvert_exporter": "python",
   "pygments_lexer": "ipython3",
   "version": "3.9.7"
  }
 },
 "nbformat": 4,
 "nbformat_minor": 5
}
