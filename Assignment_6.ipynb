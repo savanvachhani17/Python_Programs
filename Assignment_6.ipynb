{
 "cells": [
  {
   "cell_type": "code",
   "execution_count": 27,
   "id": "2b0b953f",
   "metadata": {},
   "outputs": [
    {
     "name": "stdout",
     "output_type": "stream",
     "text": [
      "3\n",
      "[3, 7, 10]\n",
      "[8, 12, 10]\n",
      "[2, 2, 2]\n"
     ]
    }
   ],
   "source": [
    "# Python program to add two Matrices\n",
    "A=[[1,3,5],[6,8,9],[1,1,1]]\n",
    "\n",
    "B=[[2,4,5],[2,4,1],[1,1,1]]\n",
    "print(len(A[0]))\n",
    "len(A)\n",
    "\n",
    "result=[[0,0,0],[0,0,0],[0,0,0]]\n",
    "for i in range(len(A)):\n",
    "    for j in range(len(A[0])):\n",
    "        result[i][j]=A[i][j]+B[i][j]\n",
    "        \n",
    "for r in result:\n",
    "    print(r)\n"
   ]
  },
  {
   "cell_type": "code",
   "execution_count": 32,
   "id": "ad6b1e8d",
   "metadata": {},
   "outputs": [
    {
     "name": "stdout",
     "output_type": "stream",
     "text": [
      "[114, 160, 60]\n",
      "[74, 97, 73]\n",
      "[119, 157, 112]\n"
     ]
    },
    {
     "data": {
      "text/plain": [
       "5"
      ]
     },
     "execution_count": 32,
     "metadata": {},
     "output_type": "execute_result"
    }
   ],
   "source": [
    "# Python program to multiply two matrices\n",
    "X = [[12,7,3],\n",
    "     [4 ,5,6],\n",
    "     [7 ,8,9]]\n",
    "Y = [[5,8,1],\n",
    "     [6,7,3], \n",
    "     [4,5,9]]\n",
    "\n",
    "result = [[0,0,0], \n",
    "          [0,0,0], \n",
    "          [0,0,0]]\n",
    "\n",
    "for i in range(len(X)): \n",
    "    for j in range(len(Y[0])):\n",
    "        for k in range(len(Y)):\n",
    "            result[i][j] += X[i][k] * Y[k][j] \n",
    "            \n",
    "for r in result: \n",
    "    print(r)\n",
    "\n",
    "X[1][1]"
   ]
  },
  {
   "cell_type": "code",
   "execution_count": 33,
   "id": "f6515d77",
   "metadata": {},
   "outputs": [
    {
     "name": "stdout",
     "output_type": "stream",
     "text": [
      "[114, 160, 60]\n",
      "[74, 97, 73]\n",
      "[119, 157, 112]\n"
     ]
    },
    {
     "data": {
      "text/plain": [
       "5"
      ]
     },
     "execution_count": 33,
     "metadata": {},
     "output_type": "execute_result"
    }
   ],
   "source": [
    "# Python program for Matrix Product\n",
    "X = [[12,7,3],\n",
    "     [4 ,5,6],\n",
    "     [7 ,8,9]]\n",
    "Y = [[5,8,1],\n",
    "     [6,7,3], \n",
    "     [4,5,9]]\n",
    "\n",
    "result = [[0,0,0], \n",
    "          [0,0,0], \n",
    "          [0,0,0]]\n",
    "\n",
    "for i in range(len(X)): \n",
    "    for j in range(len(Y[0])):\n",
    "        for k in range(len(Y)):\n",
    "            result[i][j] += X[i][k] * Y[k][j] \n",
    "            \n",
    "for r in result: \n",
    "    print(r)\n",
    "\n",
    "X[1][1]"
   ]
  },
  {
   "cell_type": "code",
   "execution_count": 41,
   "id": "f1d223d0",
   "metadata": {},
   "outputs": [
    {
     "name": "stdout",
     "output_type": "stream",
     "text": [
      "[[1, 2, 3], [1, 2, 3], [1, 2, 3]]\n",
      "[[1, 2, 3], [1, 2, 3], [1, 2, 3]]\n",
      "[[2 4 6]\n",
      " [2 4 6]\n",
      " [2 4 6]]\n",
      "[[0 0 0]\n",
      " [0 0 0]\n",
      " [0 0 0]]\n"
     ]
    }
   ],
   "source": [
    "# Adding and Subtracting Matrices in Python\n",
    "import numpy as np\n",
    "A=[[1,2,3],[1,2,3],[1,2,3]]\n",
    "B=[[1,2,3],[1,2,3],[1,2,3]]\n",
    "print(A)\n",
    "print(B)\n",
    "print(np.add(A,B))\n",
    "print(np.subtract(A,B))"
   ]
  },
  {
   "cell_type": "code",
   "execution_count": 42,
   "id": "7ad70808",
   "metadata": {},
   "outputs": [
    {
     "name": "stdout",
     "output_type": "stream",
     "text": [
      "[[1, 2, 3], [4, 5, 6]]\n",
      "\n",
      "\n",
      "[[1 4]\n",
      " [2 5]\n",
      " [3 6]]\n"
     ]
    }
   ],
   "source": [
    "# Transpose a matrix in Single line in Python\n",
    "import numpy as np\n",
    "matrix = [[1,2,3],\n",
    "          [4,5,6]]\n",
    "print(matrix)\n",
    "print(\"\\n\")\n",
    "print(np.transpose(matrix))"
   ]
  },
  {
   "cell_type": "code",
   "execution_count": 69,
   "id": "385ad021",
   "metadata": {},
   "outputs": [
    {
     "name": "stdout",
     "output_type": "stream",
     "text": [
      "The Dimension:4\n",
      "The created matrix of N * N: [[1, 2, 3, 4], [5, 6, 7, 8], [9, 10, 11, 12], [13, 14, 15, 16]]\n"
     ]
    }
   ],
   "source": [
    "# Python | Matrix creation of n*n\n",
    "N =4 \n",
    "print(\"The Dimension:\" +str(N))\n",
    "res = [list(range(1 + N * i,1+ N * (i + 1)))\n",
    "       for i in range(N)]\n",
    "\n",
    "print(\"The created matrix of N * N: \" + str(res))"
   ]
  },
  {
   "cell_type": "code",
   "execution_count": 68,
   "id": "1cd5b61e",
   "metadata": {},
   "outputs": [
    {
     "name": "stdout",
     "output_type": "stream",
     "text": [
      "The original list is : [[4, 5, 6], [8, 1, 10], [7, 12, 5]]\n",
      "The Kth column of Matrix is :[6, 10, 5]\n"
     ]
    }
   ],
   "source": [
    "# Python | Get Kth Column of Matrix\n",
    "test_list = [[4, 5, 6], [8, 1, 10], [7, 12, 5]]\n",
    "print(\"The original list is : \" + str(test_list)) \n",
    "K = 2\n",
    "\n",
    "res = [sub[K] for sub in test_list] \n",
    "\n",
    "print(\"The Kth column of Matrix is :\" + str(res))"
   ]
  },
  {
   "cell_type": "code",
   "execution_count": 67,
   "id": "997e0c8f",
   "metadata": {},
   "outputs": [
    {
     "name": "stdout",
     "output_type": "stream",
     "text": [
      "The original list : [['abc', 'good'], ['efg', 'for'], ['hij']]\n",
      "List after column Concatenation : ['abcefghij', 'goodfor']\n"
     ]
    }
   ],
   "source": [
    "# Python – Vertical Concatenation in Matrix\n",
    "test_list = [[\"abc\", \"good\"], [\"efg\", \"for\"], [\"hij\"]]\n",
    "print(\"The original list : \" + str(test_list)) \n",
    "\n",
    "\n",
    "res = [] \n",
    "N = 0 \n",
    "\n",
    "while N != len(test_list): \n",
    "    temp = '' \n",
    "    for idx in test_list:\n",
    "        try: temp = temp + idx[N] \n",
    "        except IndexError: pass \n",
    "    res.append(temp) \n",
    "    N = N + 1 \n",
    "\n",
    "res = [ele for ele in res if ele] \n",
    "\n",
    "print(\"List after column Concatenation : \" + str(res)) "
   ]
  },
  {
   "cell_type": "code",
   "execution_count": 57,
   "id": "df7b0a14",
   "metadata": {},
   "outputs": [
    {
     "name": "stdout",
     "output_type": "stream",
     "text": [
      "No\n"
     ]
    }
   ],
   "source": [
    "# Python program to check if a string is palindrome or not\n",
    "def ispalindrome(s):\n",
    "    return s==s[::-1]\n",
    "\n",
    "s='rakesh'\n",
    "a=ispalindrome(s)\n",
    "if a:\n",
    "    print('Yes')\n",
    "else:\n",
    "    print('No')"
   ]
  },
  {
   "cell_type": "code",
   "execution_count": 65,
   "id": "2438458b",
   "metadata": {},
   "outputs": [
    {
     "name": "stdout",
     "output_type": "stream",
     "text": [
      "rakesh string is not symmertical\n",
      "rakesh string is not palindrome\n"
     ]
    }
   ],
   "source": [
    "# Python program to check whether the string is Symmetrical or Palindrome\n",
    "string = 'rakesh' \n",
    "half = int(len(string) / 2) \n",
    "if len(string) % 2 == 0:\n",
    "    first_str = string[:half]\n",
    "    second_str = string[half:]\n",
    "else:\n",
    "    first_str= string[:half]\n",
    "    second_str= string[half+1:]\n",
    "\n",
    "#symetric\n",
    "if first_str == second_str:\n",
    "    print(string, 'string is symmertical')\n",
    "else:\n",
    "    print(string, 'string is not symmertical')\n",
    "if first_str == second_str[::-1]:\n",
    "    print(string, 'string is palindrome') \n",
    "else: \n",
    "    print(string, 'string is not palindrome') "
   ]
  }
 ],
 "metadata": {
  "kernelspec": {
   "display_name": "Python 3 (ipykernel)",
   "language": "python",
   "name": "python3"
  },
  "language_info": {
   "codemirror_mode": {
    "name": "ipython",
    "version": 3
   },
   "file_extension": ".py",
   "mimetype": "text/x-python",
   "name": "python",
   "nbconvert_exporter": "python",
   "pygments_lexer": "ipython3",
   "version": "3.9.7"
  }
 },
 "nbformat": 4,
 "nbformat_minor": 5
}
