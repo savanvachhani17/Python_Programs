{
 "cells": [
  {
   "cell_type": "code",
   "execution_count": 8,
   "id": "c556ec6b",
   "metadata": {},
   "outputs": [
    {
     "name": "stdout",
     "output_type": "stream",
     "text": [
      "1505\n",
      "1540\n",
      "1575\n",
      "1610\n",
      "1645\n",
      "1680\n",
      "1715\n",
      "1750\n",
      "1785\n",
      "1820\n",
      "1855\n",
      "1890\n",
      "1925\n",
      "1960\n",
      "1995\n",
      "2030\n",
      "2065\n",
      "2100\n",
      "2135\n",
      "2170\n",
      "2205\n",
      "2240\n",
      "2275\n",
      "2310\n",
      "2345\n",
      "2380\n",
      "2415\n",
      "2450\n",
      "2485\n",
      "2520\n",
      "2555\n",
      "2590\n",
      "2625\n",
      "2660\n",
      "2695\n"
     ]
    }
   ],
   "source": [
    "# Write a Python program to find those numbers which are divisible by 7 and multiple of 5, between 1500 and 2700 (both included).\n",
    "for i in range(1500,2701):\n",
    "    if i%7==0 and i%5==0:\n",
    "        print(i)"
   ]
  },
  {
   "cell_type": "code",
   "execution_count": 14,
   "id": "75b1d3ed",
   "metadata": {},
   "outputs": [
    {
     "name": "stdout",
     "output_type": "stream",
     "text": [
      "Enter the first number 10\n",
      "Enter the second number 12\n",
      "Sum of two numbers is  22\n"
     ]
    }
   ],
   "source": [
    "# Python program to add two numbers\n",
    "a=int(input('Enter the first number '))\n",
    "b=int(input('Enter the second number '))\n",
    "print('Sum of two numbers is ', a+b)"
   ]
  },
  {
   "cell_type": "code",
   "execution_count": 15,
   "id": "8a5ab8d7",
   "metadata": {},
   "outputs": [
    {
     "name": "stdout",
     "output_type": "stream",
     "text": [
      "Enter the first number 1\n",
      "Enter the second number 4\n",
      "Max number is  4\n"
     ]
    }
   ],
   "source": [
    "# Maximum of two numbers in Python\n",
    "a=int(input('Enter the first number '))\n",
    "b=int(input('Enter the second number '))\n",
    "if a>b:\n",
    "    print('Max number is ', a)\n",
    "else:\n",
    "    print('Max number is ', b)\n"
   ]
  },
  {
   "cell_type": "code",
   "execution_count": 30,
   "id": "b5781286",
   "metadata": {},
   "outputs": [
    {
     "name": "stdout",
     "output_type": "stream",
     "text": [
      "Enter the number for a factorial 6\n",
      "Factorial of 6 is 720\n"
     ]
    }
   ],
   "source": [
    "# Python Program for factorial of a number\n",
    "a=int(input('Enter the number for a factorial '))\n",
    "factorial=1\n",
    "if a<0:\n",
    "    print('Factorial of a negative number cannot be exists ')\n",
    "elif a==0:\n",
    "    print('Factorial of a 0 is 1 ')\n",
    "else:\n",
    "    for i in range(1,a+1):\n",
    "        factorial=i*factorial\n",
    "    print('Factorial of',a,'is',factorial)\n",
    "\n",
    "    \n"
   ]
  },
  {
   "cell_type": "code",
   "execution_count": 32,
   "id": "1bacc236",
   "metadata": {},
   "outputs": [
    {
     "name": "stdout",
     "output_type": "stream",
     "text": [
      "Enter the principal amount  8\n",
      "Enter the time period  6\n",
      "Enter the rate interest  8\n",
      "Simple Interest is  3.84\n"
     ]
    }
   ],
   "source": [
    "# Python Program for simple interest\n",
    "def simple_interest(p,t,r):\n",
    "    print('Enter the principal amount ',p)\n",
    "    print('Enter the time period ',t)\n",
    "    print('Enter the rate interest ',r)\n",
    "    sint=(p*t*r)/100\n",
    "    print('Simple Interest is ',sint)\n",
    "\n",
    "simple_interest(8,6,8)"
   ]
  },
  {
   "cell_type": "code",
   "execution_count": 38,
   "id": "fb10ec74",
   "metadata": {},
   "outputs": [
    {
     "name": "stdout",
     "output_type": "stream",
     "text": [
      "Enter the principal amount  1200\n",
      "Enter the time period  2\n",
      "Enter the rate interest  5.4\n",
      "Compound Interest is  133.0992000000001\n"
     ]
    }
   ],
   "source": [
    "# Python Program for compound interest\n",
    "def compound_interest(p,t,r):\n",
    "    print('Enter the principal amount ',p)\n",
    "    print('Enter the time period ',t)\n",
    "    print('Enter the rate interest ',r)\n",
    "    a=p*((1+(r/100))**t)\n",
    "    cint=a-p\n",
    "    print('Compound Interest is ',cint)\n",
    "\n",
    "compound_interest(1200,2,5.4)"
   ]
  },
  {
   "cell_type": "code",
   "execution_count": 71,
   "id": "769e27af",
   "metadata": {},
   "outputs": [
    {
     "name": "stdout",
     "output_type": "stream",
     "text": [
      "Enter a number to check armstrong number 12345\n",
      "['1', '2', '3', '4', '5']\n",
      "5\n",
      "4425\n",
      "Not a armstrong number\n"
     ]
    }
   ],
   "source": [
    "# Python Program to check Armstrong Number\n",
    "a=str(input('Enter a number to check armstrong number '))\n",
    "b=list(a)\n",
    "print(b)\n",
    "c=len(b)\n",
    "print(c)\n",
    "\n",
    "total=0\n",
    "for i in b:\n",
    "    total=total+int(i)**c\n",
    "print(total)\n",
    "\n",
    "if total==int(a):\n",
    "    print('Number is Armstrong')\n",
    "else:\n",
    "    print('Not a armstrong number')\n",
    "    "
   ]
  },
  {
   "cell_type": "code",
   "execution_count": 44,
   "id": "95d3d7c0",
   "metadata": {},
   "outputs": [
    {
     "name": "stdout",
     "output_type": "stream",
     "text": [
      "Enter a radius  4\n",
      "Area of the circle is  50.2656\n"
     ]
    }
   ],
   "source": [
    "# Python Program for Program to find area of a circle\n",
    "def area(r):\n",
    "    print('Enter a radius ',r)\n",
    "    a=3.1416*(r**2)\n",
    "    print('Area of the circle is ', a)\n",
    "\n",
    "area(4)"
   ]
  },
  {
   "cell_type": "code",
   "execution_count": 101,
   "id": "8fcf8718",
   "metadata": {},
   "outputs": [
    {
     "name": "stdout",
     "output_type": "stream",
     "text": [
      "1 False\n",
      "2 True\n",
      "3 True\n",
      "4 False\n",
      "5 True\n",
      "6 False\n",
      "7 True\n",
      "8 False\n",
      "9 False\n",
      "10 False\n",
      "11 True\n",
      "12 False\n",
      "13 True\n",
      "14 False\n",
      "15 False\n",
      "16 False\n",
      "17 True\n",
      "18 False\n",
      "19 True\n",
      "20 False\n",
      "21 False\n",
      "22 False\n",
      "23 True\n",
      "24 False\n",
      "25 False\n",
      "26 False\n",
      "27 False\n",
      "28 False\n",
      "29 True\n",
      "30 False\n",
      "31 True\n",
      "32 False\n",
      "33 False\n",
      "34 False\n",
      "35 False\n",
      "36 False\n",
      "37 True\n",
      "38 False\n",
      "39 False\n",
      "40 False\n",
      "41 True\n",
      "42 False\n",
      "43 True\n",
      "44 False\n",
      "45 False\n",
      "46 False\n",
      "47 True\n",
      "48 False\n",
      "49 False\n",
      "50 False\n",
      "51 False\n",
      "52 False\n",
      "53 True\n",
      "54 False\n",
      "55 False\n",
      "56 False\n",
      "57 False\n",
      "58 False\n",
      "59 True\n",
      "60 False\n",
      "61 True\n",
      "62 False\n",
      "63 False\n",
      "64 False\n",
      "65 False\n",
      "66 False\n",
      "67 True\n",
      "68 False\n",
      "69 False\n",
      "70 False\n",
      "71 True\n",
      "72 False\n",
      "73 True\n",
      "74 False\n",
      "75 False\n",
      "76 False\n",
      "77 False\n",
      "78 False\n",
      "79 True\n",
      "80 False\n",
      "81 False\n",
      "82 False\n",
      "83 True\n",
      "84 False\n",
      "85 False\n",
      "86 False\n",
      "87 False\n",
      "88 False\n",
      "89 True\n",
      "90 False\n",
      "91 False\n",
      "92 False\n",
      "93 False\n",
      "94 False\n",
      "95 False\n",
      "96 False\n",
      "97 True\n",
      "98 False\n",
      "99 False\n"
     ]
    }
   ],
   "source": [
    "# Python program to print all Prime numbers in an Interval\n",
    "def prime_number(n):\n",
    "    if n==1:\n",
    "        return False\n",
    "    for d in range(2,n):\n",
    "        if n%d==0:\n",
    "            return False\n",
    "    return True\n",
    "\n",
    "for n in range(1,100):\n",
    "    print(n,prime_number(n))"
   ]
  },
  {
   "cell_type": "code",
   "execution_count": 10,
   "id": "5ef7cc1b",
   "metadata": {},
   "outputs": [
    {
     "name": "stdout",
     "output_type": "stream",
     "text": [
      "Enter a number to check whether it is a prime or not: 4\n",
      "Not a prime number\n"
     ]
    }
   ],
   "source": [
    "# Python program to check whether a number is Prime or not\n",
    "a=int(input('Enter a number to check whether it is a prime or not: '))\n",
    "if a==1:\n",
    "    print(a,'is not a prime')\n",
    "else:\n",
    "    for i in range(2,a):\n",
    "        if a%i==0:\n",
    "            print('Not a prime number')\n",
    "            break\n",
    "    else:\n",
    "        print('Prime number')"
   ]
  },
  {
   "cell_type": "code",
   "execution_count": 1,
   "id": "3567bf71",
   "metadata": {},
   "outputs": [
    {
     "name": "stdout",
     "output_type": "stream",
     "text": [
      "Enter a number to check whether it is a prime or not10\n"
     ]
    }
   ],
   "source": []
  },
  {
   "cell_type": "code",
   "execution_count": null,
   "id": "14c53075",
   "metadata": {},
   "outputs": [],
   "source": []
  }
 ],
 "metadata": {
  "kernelspec": {
   "display_name": "Python 3",
   "language": "python",
   "name": "python3"
  },
  "language_info": {
   "codemirror_mode": {
    "name": "ipython",
    "version": 3
   },
   "file_extension": ".py",
   "mimetype": "text/x-python",
   "name": "python",
   "nbconvert_exporter": "python",
   "pygments_lexer": "ipython3",
   "version": "3.8.8"
  }
 },
 "nbformat": 4,
 "nbformat_minor": 5
}
