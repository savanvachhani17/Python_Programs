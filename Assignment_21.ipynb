{
 "cells": [
  {
   "cell_type": "code",
   "execution_count": 10,
   "id": "83b8bf0d",
   "metadata": {},
   "outputs": [
    {
     "name": "stdout",
     "output_type": "stream",
     "text": [
      "The numbers are: 1505\n",
      "The numbers are: 1540\n",
      "The numbers are: 1575\n",
      "The numbers are: 1610\n",
      "The numbers are: 1645\n",
      "The numbers are: 1680\n",
      "The numbers are: 1715\n",
      "The numbers are: 1750\n",
      "The numbers are: 1785\n",
      "The numbers are: 1820\n",
      "The numbers are: 1855\n",
      "The numbers are: 1890\n",
      "The numbers are: 1925\n",
      "The numbers are: 1960\n",
      "The numbers are: 1995\n",
      "The numbers are: 2030\n",
      "The numbers are: 2065\n",
      "The numbers are: 2100\n",
      "The numbers are: 2135\n",
      "The numbers are: 2170\n",
      "The numbers are: 2205\n",
      "The numbers are: 2240\n",
      "The numbers are: 2275\n",
      "The numbers are: 2310\n",
      "The numbers are: 2345\n",
      "The numbers are: 2380\n",
      "The numbers are: 2415\n",
      "The numbers are: 2450\n",
      "The numbers are: 2485\n",
      "The numbers are: 2520\n",
      "The numbers are: 2555\n",
      "The numbers are: 2590\n",
      "The numbers are: 2625\n",
      "The numbers are: 2660\n",
      "The numbers are: 2695\n"
     ]
    }
   ],
   "source": [
    "# Write a Python program to find those numbers which are divisible by 7 and multiple of 5, between 1500 and 2700 (both included).\n",
    "for x in range(1500,2700,1):\n",
    "    if(x%7==0)&(x%5==0):\n",
    "        print('The numbers are:', x)"
   ]
  },
  {
   "cell_type": "code",
   "execution_count": 17,
   "id": "ffe930d0",
   "metadata": {},
   "outputs": [
    {
     "name": "stdout",
     "output_type": "stream",
     "text": [
      "The original string  is : Data Analyst\n",
      "The reversed string(using loops) is : tsylanA ataD\n"
     ]
    }
   ],
   "source": [
    "# Write a Python program that accepts a word from the user and reverse it.\n",
    "def reverse(s):\n",
    "  str = \"\"\n",
    "  for i in s:\n",
    "    str = i + str\n",
    "  return str\n",
    "  \n",
    "s = \"Data Analyst\"\n",
    "  \n",
    "print (\"The original string  is : \",end=\"\")\n",
    "print (s)\n",
    "  \n",
    "print (\"The reversed string(using loops) is : \",end=\"\")\n",
    "print (reverse(s))"
   ]
  },
  {
   "cell_type": "code",
   "execution_count": 18,
   "id": "e024d6a2",
   "metadata": {},
   "outputs": [
    {
     "name": "stdout",
     "output_type": "stream",
     "text": [
      "Input a dog's age in human years: 20\n",
      "The dog's age in dog's years is 93\n"
     ]
    }
   ],
   "source": [
    "# Write a Python program to calculate a dog's age in dog's years.  Note: For the first two years, a dog year is equal to 10.5 human years. After that, each dog year equals 4 human years.\n",
    "h_age = int(input(\"Input a dog's age in human years: \"))\n",
    "\n",
    "if h_age < 0:\n",
    "    print(\"Age must be positive number.\")\n",
    "    exit()\n",
    "elif h_age <= 2:\n",
    "    d_age = h_age * 10.5\n",
    "else:\n",
    "    d_age = 21 + (h_age - 2)*4\n",
    "\n",
    "print(\"The dog's age in dog's years is\", d_age)"
   ]
  },
  {
   "cell_type": "code",
   "execution_count": 4,
   "id": "7b309e63",
   "metadata": {},
   "outputs": [
    {
     "name": "stdout",
     "output_type": "stream",
     "text": [
      "Enter the first side of triangle: 2\n",
      "Enter the second side of triangle: 3\n",
      "Enter the third side of triangle: 2\n",
      "The triangle is isosceles\n"
     ]
    }
   ],
   "source": [
    "# Write a Python program to check a triangle is equilateral, isosceles or scalene\n",
    "side_1=int(input('Enter the first side of triangle: '))\n",
    "side_2=int(input('Enter the second side of triangle: '))\n",
    "side_3=int(input('Enter the third side of triangle: '))\n",
    "\n",
    "if side_1==side_2==side_3:\n",
    "    print('The triangle is equilateral')\n",
    "elif side_1==side_2 or side_1==side_3 or side_3==side_2:\n",
    "    print('The triangle is isosceles')\n",
    "else:\n",
    "    print('The triangle is scalene')\n",
    "    "
   ]
  },
  {
   "cell_type": "code",
   "execution_count": 5,
   "id": "ca50cbb5",
   "metadata": {},
   "outputs": [
    {
     "name": "stdout",
     "output_type": "stream",
     "text": [
      "2\n"
     ]
    }
   ],
   "source": [
    "# Write a Python program to detect the number of local variables declared in a function. \n",
    "def fun():\n",
    "    a = 1\n",
    "    str = 'Dubai Hi'\n",
    "  \n",
    "  \n",
    "# Driver program\n",
    "print(fun.__code__.co_nlocals)"
   ]
  },
  {
   "cell_type": "code",
   "execution_count": 6,
   "id": "2cacaa09",
   "metadata": {},
   "outputs": [
    {
     "name": "stdout",
     "output_type": "stream",
     "text": [
      "120\n"
     ]
    }
   ],
   "source": [
    "# Write a Python program to execute a string containing Python code.\n",
    "def exec_code():\n",
    "    LOC = \"\"\"\n",
    "    \n",
    "def factorial(num):\n",
    "    fact=1\n",
    "    for i in range(1,num+1):\n",
    "        fact = fact*i\n",
    "    return fact\n",
    "print(factorial(5))\n",
    "\"\"\"\n",
    "    exec(LOC)\n",
    "     \n",
    "# Driver Code\n",
    "exec_code()"
   ]
  },
  {
   "cell_type": "code",
   "execution_count": 8,
   "id": "fa08cd81",
   "metadata": {},
   "outputs": [
    {
     "name": "stdout",
     "output_type": "stream",
     "text": [
      "The original list is : [('S', 'A', 'V', 'A', 'N'), ('D', 'A', 'T', 'A'), ('I', 'N', 'U', 'R', 'O', 'N')]\n",
      "The list after conversion to list of string : ['SAVAN', 'DATA', 'INURON']\n"
     ]
    }
   ],
   "source": [
    "# Write a Python program to convert a given list of tuples to a list of strings using map function.\n",
    "test_list = [('S', 'A', 'V', 'A', 'N'), ('D', 'A', 'T','A'),\n",
    "                              ('I', 'N', 'U', 'R', 'O','N')]\n",
    "  \n",
    "# printing the original list\n",
    "print (\"The original list is : \" + str(test_list))\n",
    "  \n",
    "# using list comprehension + join()\n",
    "# conversion of list of tuple to list of list \n",
    "res = [''.join(i) for i in test_list]\n",
    "  \n",
    "# printing result\n",
    "print (\"The list after conversion to list of string : \" + str(res))"
   ]
  },
  {
   "cell_type": "code",
   "execution_count": 9,
   "id": "d2a7ff61",
   "metadata": {},
   "outputs": [
    {
     "name": "stdout",
     "output_type": "stream",
     "text": [
      "The original dictionary is : {'Rash': [1, 3], 'Manjeet': [1, 4], 'Akash': [3, 4]}\n",
      "The converted list of dictionaries [{'Rash': 1, 'Manjeet': 1, 'Akash': 3}, {'Rash': 3, 'Manjeet': 4, 'Akash': 4}]\n"
     ]
    }
   ],
   "source": [
    "# Write a Python program to split a given dictionary of lists into list of dictionaries using map function.\n",
    "test_dict = { \"Rash\" : [1, 3], \"Manjeet\" : [1, 4], \"Akash\" : [3, 4] }\n",
    "  \n",
    "# printing original dictionary\n",
    "print (\"The original dictionary is : \" + str(test_dict))\n",
    "  \n",
    "# using list comprehension\n",
    "# to convert dictionary of list to \n",
    "# list of dictionaries\n",
    "res = [{key : value[i] for key, value in test_dict.items()}\n",
    "         for i in range(2)]\n",
    "  \n",
    "# printing result\n",
    "print (\"The converted list of dictionaries \" +  str(res))"
   ]
  },
  {
   "cell_type": "code",
   "execution_count": null,
   "id": "f7c592b1",
   "metadata": {},
   "outputs": [],
   "source": [
    "# Write a Python program to scan a specified directory and identify the sub directories and files.\n",
    "import os\n",
    "\n",
    "path =r\"C:\\Users\\ANKIA\\Downloads\\Data Analyst ineuron\\Question Answer\\Python\"\n",
    "dir_list = os.listdir(path)\n",
    " \n",
    "print(\"Files and directories in '\", path, \"' :\")\n",
    " \n",
    "# prints all files\n",
    "print(dir_list)"
   ]
  },
  {
   "cell_type": "code",
   "execution_count": 10,
   "id": "7502860b",
   "metadata": {},
   "outputs": [
    {
     "name": "stdout",
     "output_type": "stream",
     "text": [
      "2018-12-04 10:07:00\n"
     ]
    }
   ],
   "source": [
    "# Write a Python program to parse a string representing time and returns the structure time. \n",
    "import datetime\n",
    "   \n",
    "# Function to convert string to datetime\n",
    "def convert(date_time):\n",
    "    format = '%b %d %Y %I:%M%p' # The format\n",
    "    datetime_str = datetime.datetime.strptime(date_time, format)\n",
    "   \n",
    "    return datetime_str\n",
    "   \n",
    "# Driver code\n",
    "date_time = 'Dec 4 2018 10:07AM'\n",
    "print(convert(date_time))"
   ]
  },
  {
   "cell_type": "code",
   "execution_count": null,
   "id": "076206a6",
   "metadata": {},
   "outputs": [],
   "source": [
    "# Write a Python code to send a request to a web page, and print the information of headers. Also parse these values and print key-value pairs holding various information. \n",
    "import requests\n",
    "r = requests.get('https://api.github.com/')\n",
    "response = r.headers\n",
    "print(\"Headers information of the said response:\")\n",
    "print(response)\n",
    "print(\"\\nVarious Key-value pairs information of the said resource and request:\")\n",
    "\n",
    "print(\"Date: \",r.headers['date'])\n",
    "print(\"server: \",r.headers['server'])\n",
    "#print(\"status: \",r.headers['status'])\n",
    "print(\"cache-control: \",r.headers['cache-control'])\n",
    "print(\"vary: \",r.headers['vary'])\n",
    "print(\"x-github-media-type: \",r.headers['x-github-media-type'])\n",
    "print(\"access-control-expose-headers: \",r.headers['access-control-expose-headers'])\n",
    "print(\"strict-transport-security: \",r.headers['strict-transport-security'])\n",
    "print(\"x-content-type-options: \",r.headers['x-content-type-options'])\n",
    "print(\"x-xss-protection: \",r.headers['x-xss-protection'])\n",
    "print(\"referrer-policy: \",r.headers['referrer-policy'])\n",
    "print(\"content-security-policy: \",r.headers['content-security-policy'])\n",
    "print(\"content-encoding: \",r.headers['content-encoding'])\n",
    "print(\"X-Ratelimit-Remaining: \",r.headers['X-Ratelimit-Remaining'])\n",
    "print(\"X-Ratelimit-Reset: \",r.headers['X-Ratelimit-Reset'])\n",
    "print(\"X-Ratelimit-Used: \",r.headers['X-Ratelimit-Used'])\n",
    "print(\"Accept-Ranges:\",r.headers['Accept-Ranges'])\n",
    "print(\"X-GitHub-Request-Id:\",r.headers['X-GitHub-Request-Id'])"
   ]
  },
  {
   "cell_type": "code",
   "execution_count": null,
   "id": "ee44efca",
   "metadata": {},
   "outputs": [],
   "source": [
    "# Write a Python code to send some sort of data in the URL's query string.\n",
    "import requests\n",
    "payload = {'key1': 'value1', 'key2': 'value2'}\n",
    "print(\"Parameters: \",payload)\n",
    "r = requests.get('https://httpbin.org/get', params=payload)\n",
    "print(\"Print the url to check the URL has been correctly encoded or not!\")\n",
    "print(r.url)\n",
    "print(\"\\nPass a list of items as a value:\")\n",
    "payload = {'key1': 'value1', 'key2': ['value2', 'value3']}\n",
    "print(\"Parameters: \",payload)\n",
    "r = requests.get('https://httpbin.org/get', params=payload)\n",
    "print(\"Print the url to check the URL has been correctly encoded or not!\")\n",
    "print(r.url)"
   ]
  },
  {
   "cell_type": "code",
   "execution_count": 13,
   "id": "664eafd8",
   "metadata": {},
   "outputs": [],
   "source": [
    "# Write a Python program to write a Python dictionary to a csv file. After writing the CSV file read the CSV file and display the content. \n",
    "import csv\n",
    "  \n",
    "field_names = ['No', 'Company', 'Car Model']\n",
    "  \n",
    "cars = [\n",
    "{'No': 1, 'Company': 'Ferrari', 'Car Model': '488 GTB'},\n",
    "{'No': 2, 'Company': 'Porsche', 'Car Model': '918 Spyder'},\n",
    "{'No': 3, 'Company': 'Bugatti', 'Car Model': 'La Voiture Noire'},\n",
    "{'No': 4, 'Company': 'Rolls Royce', 'Car Model': 'Phantom'},\n",
    "{'No': 5, 'Company': 'BMW', 'Car Model': 'BMW X7'}, ]\n",
    "  \n",
    "with open('Names.csv', 'w') as csvfile:\n",
    "    writer = csv.DictWriter(csvfile, fieldnames = field_names)\n",
    "    writer.writeheader()\n",
    "    writer.writerows(cars)"
   ]
  },
  {
   "cell_type": "code",
   "execution_count": null,
   "id": "6c5f69ab",
   "metadata": {},
   "outputs": [],
   "source": [
    "# Write a Python program that reads each row of a given csv file and skip the header of the file. Also print the number of rows and the field names. \n",
    "import csv\n",
    "fields = []\n",
    "rows = []\n",
    "with open('Churn_Modelling.csv', newline='') as csvfile:\n",
    "    data = csv.reader(csvfile, delimiter=' ', quotechar=',')\n",
    " # Following command skips the first row of the CSV file.\n",
    "    fields = next(data)\n",
    "    for row in data:\n",
    "        print(', '.join(row))\n",
    "print(\"\\nTotal no. of rows: %d\"%(data.line_num))\n",
    "print('Field names are:')\n",
    "print(', '.join(field for field in fields))"
   ]
  },
  {
   "cell_type": "code",
   "execution_count": 14,
   "id": "738d6baa",
   "metadata": {},
   "outputs": [
    {
     "name": "stdout",
     "output_type": "stream",
     "text": [
      "Dataanalyst123 : True\n",
      "DataAnalyst : False\n",
      "DataAnalyst123@# : False\n",
      "123 : False\n",
      "@# : False\n"
     ]
    }
   ],
   "source": [
    "# Write a Python program to check that a string contains only a certain set of characters (in this case a-z, A-Z and 0-9)\n",
    "import re\n",
    " \n",
    "# Function to check string\n",
    "# is alphanumeric or not\n",
    "def isAlphaNumeric(str):\n",
    " \n",
    "    # Regex to check string is\n",
    "    # alphanumeric or not.\n",
    "    regex = \"^(?=.*[a-zA-Z])(?=.*[0-9])[A-Za-z0-9]+$\"\n",
    " \n",
    "    # Compile the ReGex\n",
    "    p = re.compile(regex)\n",
    " \n",
    "    # If the string is empty\n",
    "    # return false\n",
    "    if(str == None):\n",
    "        return False\n",
    " \n",
    "    # Return if the string\n",
    "    # matched the ReGex\n",
    "    if(re.search(p, str)):\n",
    "        return True\n",
    "    else:\n",
    "        return False\n",
    "    \n",
    "# Driver Code\n",
    " # Test Case 1:\n",
    "str1 = \"Dataanalyst123\"\n",
    "print(str1, \":\",\n",
    "      isAlphaNumeric(str1))\n",
    " \n",
    "# Test Case 2:\n",
    "str2 = \"DataAnalyst\"\n",
    "print(str2, \":\",\n",
    "       isAlphaNumeric(str2))\n",
    " \n",
    "# Test Case 3:\n",
    "str3 = \"DataAnalyst123@#\"\n",
    "print(str3, \":\",\n",
    "      isAlphaNumeric(str3))\n",
    " \n",
    "# Test Case 4:\n",
    "str4 = \"123\"\n",
    "print(str4, \":\",\n",
    "      isAlphaNumeric(str4))\n",
    " \n",
    "# Test Case 5:\n",
    "str5 = \"@#\"\n",
    "print(str5, \":\",\n",
    "      isAlphaNumeric(str5))"
   ]
  },
  {
   "cell_type": "code",
   "execution_count": null,
   "id": "85fb5032",
   "metadata": {},
   "outputs": [],
   "source": []
  }
 ],
 "metadata": {
  "kernelspec": {
   "display_name": "Python 3 (ipykernel)",
   "language": "python",
   "name": "python3"
  },
  "language_info": {
   "codemirror_mode": {
    "name": "ipython",
    "version": 3
   },
   "file_extension": ".py",
   "mimetype": "text/x-python",
   "name": "python",
   "nbconvert_exporter": "python",
   "pygments_lexer": "ipython3",
   "version": "3.9.7"
  }
 },
 "nbformat": 4,
 "nbformat_minor": 5
}
