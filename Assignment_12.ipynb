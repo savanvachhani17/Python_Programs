{
 "cells": [
  {
   "cell_type": "code",
   "execution_count": 1,
   "id": "b9715dbd",
   "metadata": {},
   "outputs": [
    {
     "name": "stdout",
     "output_type": "stream",
     "text": [
      "{'akash': [10], 'gaurav': [12], 'anand': [14], 'suraj': [20], 'akhil': [25], 'ashish': [30]}\n"
     ]
    }
   ],
   "source": [
    "# Python | Convert a list of Tuples into Dictionary\n",
    "\n",
    "def Convert(tup, di):\n",
    "    for a, b in tup:\n",
    "        di.setdefault(a, []).append(b)\n",
    "    return di\n",
    "      \n",
    "# Driver Code    \n",
    "tups = [(\"akash\", 10), (\"gaurav\", 12), (\"anand\", 14), \n",
    "     (\"suraj\", 20), (\"akhil\", 25), (\"ashish\", 30)]\n",
    "dictionary = {}\n",
    "print (Convert(tups, dictionary))"
   ]
  },
  {
   "cell_type": "code",
   "execution_count": 2,
   "id": "7634a724",
   "metadata": {},
   "outputs": [
    {
     "name": "stdout",
     "output_type": "stream",
     "text": [
      "Possible\n"
     ]
    }
   ],
   "source": [
    "# Python counter and dictionary intersection example (Make a string using deletion and rearrangement)\n",
    "from collections import Counter\n",
    "  \n",
    "def makeString(str1,str2):\n",
    "  \n",
    "    dict1 = Counter(str1)\n",
    "    dict2 = Counter(str2)\n",
    "  \n",
    "    result = dict1 & dict2\n",
    "\n",
    "    return result == dict1\n",
    "  \n",
    "# Driver program\n",
    "if __name__ == \"__main__\":\n",
    "    str1 = 'ABHISHEKsinGH'\n",
    "    str2 = 'gfhfBHkooIHnfndSHEKsiAnG'\n",
    "    if (makeString(str1,str2)==True):\n",
    "        print(\"Possible\")\n",
    "    else:\n",
    "        print(\"Not Possible\")"
   ]
  },
  {
   "cell_type": "code",
   "execution_count": 4,
   "id": "c7b531fa",
   "metadata": {},
   "outputs": [],
   "source": [
    "# Python dictionary, set and counter to check if frequencies can become same\n",
    "from collections import Counter\n",
    "  \n",
    "def allSame(input):\n",
    "      \n",
    "    # calculate frequency of each character\n",
    "    # and convert string into dictionary\n",
    "    dict=Counter(input)\n",
    "  \n",
    "    # now get list of all values and push it\n",
    "    # in set\n",
    "    same = list(set(dict.values()))\n",
    "  \n",
    "    if len(same)>2:\n",
    "        print('No')\n",
    "    elif len (same)==2 and same[1]-same[0]>1:\n",
    "        print('No')\n",
    "    else:\n",
    "        print('Yes')"
   ]
  },
  {
   "cell_type": "code",
   "execution_count": null,
   "id": "f28abc6b",
   "metadata": {},
   "outputs": [],
   "source": [
    "# Scraping And Finding Ordered Words In A Dictionary using Python\n",
    "import requests\n",
    "  \n",
    "# Scrapes the words from the URL below and stores \n",
    "# them in a list\n",
    "def getWords():\n",
    "  \n",
    "    # contains about 2500 words\n",
    "    url = \"http://www.puzzlers.org/pub/wordlists/unixdict.txt\"\n",
    "    fetchData = requests.get(url)\n",
    "  \n",
    "  \n",
    "    wordList = fetchData.content\n",
    "  \n",
    "  \n",
    "    wordList = wordList.decode(\"utf-8\").split()\n",
    "  \n",
    "    return wordList\n",
    "def isOrdered():\n",
    "  \n",
    "    # fetching the wordList\n",
    "    collection = getWords()\n",
    "  \n",
    "    # since the first few of the elements of the \n",
    "    # dictionary are numbers, getting rid of those\n",
    "    # numbers by slicing off the first 17 elements\n",
    "    collection = collection[16:]\n",
    "    word = ''\n",
    "  \n",
    "    for word in collection:\n",
    "        result = 'Word is ordered'\n",
    "        i = 0\n",
    "        l = len(word) - 1\n",
    "  \n",
    "        if (len(word) < 3): # skips the 1 and 2 lettered strings\n",
    "            continue\n",
    "  \n",
    "        # traverses through all characters of the word in pairs\n",
    "        while i < l:         \n",
    "            if (ord(word[i]) > ord(word[i+1])):\n",
    "                result = 'Word is not ordered'\n",
    "                break\n",
    "            else:\n",
    "                i += 1\n",
    "  \n",
    "        # only printing the ordered words\n",
    "        if (result == 'Word is ordered'):\n",
    "            print(word,': ',result)\n",
    "\n",
    "            # execute isOrdered() function\n",
    "if __name__ == '__main__':\n",
    "    isOrdered()"
   ]
  },
  {
   "cell_type": "code",
   "execution_count": 6,
   "id": "cafdb2b3",
   "metadata": {},
   "outputs": [
    {
     "name": "stdout",
     "output_type": "stream",
     "text": [
      "me\n",
      "goal\n"
     ]
    }
   ],
   "source": [
    "# Possible Words using given characters in Python\n",
    "def charCount(word):\n",
    "    dict = {}\n",
    "    for i in word:\n",
    "        dict[i] = dict.get(i, 0) + 1\n",
    "    return dict\n",
    "  \n",
    "  \n",
    "def possible_words(lwords, charSet):\n",
    "    for word in lwords:\n",
    "        flag = 1\n",
    "        chars = charCount(word)\n",
    "        for key in chars:\n",
    "            if key not in charSet:\n",
    "                flag = 0\n",
    "            else:\n",
    "                if charSet.count(key) != chars[key]:\n",
    "                    flag = 0\n",
    "        if flag == 1:\n",
    "            print(word)\n",
    "  \n",
    "if __name__ == \"__main__\":\n",
    "    input = ['goo', 'bat', 'me', 'eat', 'goal', 'boy', 'run']\n",
    "    charSet = ['e', 'o', 'b', 'a', 'm', 'g', 'l']\n",
    "    possible_words(input, charSet)"
   ]
  },
  {
   "cell_type": "code",
   "execution_count": 7,
   "id": "204b3f98",
   "metadata": {},
   "outputs": [
    {
     "name": "stdout",
     "output_type": "stream",
     "text": [
      "The original dictionary : {'gfg': [4, 5], 'is': [8], 'best': [10, 12]}\n",
      "The keys mapped to [5, 10] are : ['gfg', 'best']\n"
     ]
    }
   ],
   "source": [
    "# Python – Keys associated with Values in Dictionary\n",
    "test_dict = {'gfg' : [4, 5], 'is' : [8], 'best' : [10, 12]}\n",
    "  \n",
    "# printing original dictionary\n",
    "print(\"The original dictionary : \" + str(test_dict))\n",
    "  \n",
    "# initializing value list \n",
    "val_list = [5, 10]\n",
    "  \n",
    "# Value's Key association\n",
    "# Using loop + items()\n",
    "temp = {}\n",
    "for key, vals in test_dict.items():\n",
    "    for val in vals:\n",
    "        temp[val] = key\n",
    "res = [temp[ele] for ele in val_list]\n",
    "  \n",
    "# printing result \n",
    "print(\"The keys mapped to \" + str(val_list) + \" are : \" + str(res)) "
   ]
  },
  {
   "cell_type": "code",
   "execution_count": 8,
   "id": "8b0e0c9a",
   "metadata": {},
   "outputs": [
    {
     "name": "stdout",
     "output_type": "stream",
     "text": [
      "Size of Tuple1: 88bytes\n",
      "Size of Tuple2: 88bytes\n"
     ]
    }
   ],
   "source": [
    "# Python program to Find the size of a Tuple\n",
    "import sys\n",
    "Tuple1 = (\"A\", 1, \"B\", 2, \"C\", 3)\n",
    "Tuple2 = (\"Geek1\", \"Raju\", \"Geek2\", \"Nikhil\", \"Geek3\", \"Deepanshu\")\n",
    "Tuple3 = ((1, \"Lion\"), ( 2, \"Tiger\"), (3, \"Fox\"), (4, \"Wolf\"))\n",
    "  \n",
    "# print the sizes of sample Tuples\n",
    "print(\"Size of Tuple1: \" + str(sys.getsizeof(Tuple1)) + \"bytes\")\n",
    "print(\"Size of Tuple2: \" + str(sys.getsizeof(Tuple2)) + \"bytes\")"
   ]
  },
  {
   "cell_type": "code",
   "execution_count": 9,
   "id": "9f8b7556",
   "metadata": {},
   "outputs": [
    {
     "name": "stdout",
     "output_type": "stream",
     "text": [
      "The original tuple is : (5, 20, 3, 7, 6, 8)\n",
      "The extracted values : (3, 5, 8, 20)\n"
     ]
    }
   ],
   "source": [
    "# Python – Maximum and Minimum K elements in Tuple\n",
    "test_tup = (5, 20, 3, 7, 6, 8)\n",
    " \n",
    "# printing original tuple\n",
    "print(\"The original tuple is : \" + str(test_tup))\n",
    " \n",
    "# initializing K\n",
    "K = 2\n",
    " \n",
    "# Maximum and Minimum K elements in Tuple\n",
    "# Using sorted() + loop\n",
    "res = []\n",
    "test_tup = list(sorted(test_tup))\n",
    " \n",
    "for idx, val in enumerate(test_tup):\n",
    "    if idx < K or idx >= len(test_tup) - K:\n",
    "        res.append(val)\n",
    "res = tuple(res)\n",
    " \n",
    "# printing result\n",
    "print(\"The extracted values : \" + str(res))"
   ]
  },
  {
   "cell_type": "code",
   "execution_count": 10,
   "id": "0304b487",
   "metadata": {},
   "outputs": [
    {
     "name": "stdout",
     "output_type": "stream",
     "text": [
      "[(1, 1), (2, 8), (5, 125), (6, 216)]\n"
     ]
    }
   ],
   "source": [
    "# Create a list of tuples from given list having number and its cube in each tuple\n",
    "list1 = [1, 2, 5, 6]\n",
    "  \n",
    "# using list comprehension to iterate each\n",
    "# values in list and create a tuple as specified\n",
    "res = [(val, pow(val, 3)) for val in list1]\n",
    "  \n",
    "# print the result\n",
    "print(res)"
   ]
  },
  {
   "cell_type": "code",
   "execution_count": 11,
   "id": "d9d58be7",
   "metadata": {},
   "outputs": [
    {
     "name": "stdout",
     "output_type": "stream",
     "text": [
      "The original list is : [5, 6, 7]\n",
      "The container after addition : [5, 6, 7, 9, 10]\n"
     ]
    }
   ],
   "source": [
    "# Python – Adding Tuple to List and vice – versa\n",
    "test_list = [5, 6, 7]\n",
    " \n",
    "# printing original list\n",
    "print(\"The original list is : \" + str(test_list))\n",
    " \n",
    "# initializing tuple\n",
    "test_tup = (9, 10)\n",
    " \n",
    "# Adding Tuple to List and vice - versa\n",
    "# Using += operator (list + tuple)\n",
    "test_list += test_tup\n",
    " \n",
    "# printing result\n",
    "print(\"The container after addition : \" + str(test_list))"
   ]
  },
  {
   "cell_type": "code",
   "execution_count": 12,
   "id": "793126f9",
   "metadata": {},
   "outputs": [
    {
     "name": "stdout",
     "output_type": "stream",
     "text": [
      "The original list is : [(3, 4), (78, 76), (2, 3), (9, 8), (19, 23)]\n",
      "The nearest tuple to Kth index element is : (19, 23)\n"
     ]
    }
   ],
   "source": [
    "# Python – Closest Pair to Kth index element in Tuple\n",
    "test_list = [(3, 4), (78, 76), (2, 3), (9, 8), (19, 23)]\n",
    "  \n",
    "# printing original list\n",
    "print(\"The original list is : \" + str(test_list))\n",
    "  \n",
    "# initializing tuple\n",
    "tup = (17, 23)\n",
    "  \n",
    "\n",
    "K = 1\n",
    "  \n",
    "\n",
    "min_dif, res = 999999999, None\n",
    "for idx, val in enumerate(test_list):\n",
    "    dif = abs(tup[K - 1] - val[K - 1])\n",
    "    if dif < min_dif:\n",
    "        min_dif, res = dif, idx\n",
    "  \n",
    "# printing result \n",
    "print(\"The nearest tuple to Kth index element is : \" + str(test_list[res])) "
   ]
  }
 ],
 "metadata": {
  "kernelspec": {
   "display_name": "Python 3 (ipykernel)",
   "language": "python",
   "name": "python3"
  },
  "language_info": {
   "codemirror_mode": {
    "name": "ipython",
    "version": 3
   },
   "file_extension": ".py",
   "mimetype": "text/x-python",
   "name": "python",
   "nbconvert_exporter": "python",
   "pygments_lexer": "ipython3",
   "version": "3.9.7"
  }
 },
 "nbformat": 4,
 "nbformat_minor": 5
}
