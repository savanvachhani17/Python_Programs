{
 "cells": [
  {
   "cell_type": "code",
   "execution_count": 7,
   "id": "0c435232",
   "metadata": {},
   "outputs": [
    {
     "name": "stdout",
     "output_type": "stream",
     "text": [
      "good is savan\n",
      "['savan', 'is', 'good']\n"
     ]
    }
   ],
   "source": [
    "# Reverse words in a given String in Python\n",
    "sentence='savan is good'\n",
    "word=sentence.split(' ')\n",
    "reverse=' '.join(reversed(word))\n",
    "\n",
    "print(reverse)\n",
    "print(word)\n"
   ]
  },
  {
   "cell_type": "code",
   "execution_count": 8,
   "id": "76db1efc",
   "metadata": {},
   "outputs": [
    {
     "name": "stdout",
     "output_type": "stream",
     "text": [
      "The Original string is: Savan Vachhani\n",
      "the string after removal of i'th charatcter : Saan Vachhani\n"
     ]
    }
   ],
   "source": [
    "# Ways to remove i’th character from string in Python\n",
    "test = 'Savan Vachhani'\n",
    "\n",
    "print(\"The Original string is: \" + test)\n",
    "new = \"\"\n",
    "for i in range(len(test)):\n",
    "    if i != 2:\n",
    "        new = new + test[i]\n",
    "\n",
    "print(\"the string after removal of i'th charatcter : \" +  new)"
   ]
  },
  {
   "cell_type": "code",
   "execution_count": 12,
   "id": "508514d7",
   "metadata": {},
   "outputs": [
    {
     "name": "stdout",
     "output_type": "stream",
     "text": [
      "Yes\n"
     ]
    }
   ],
   "source": [
    "# Python | Check if a Substring is Present in a Given String\n",
    "def check(string,sub_str):\n",
    "    if (string.find(sub_str) == -1):\n",
    "        print(\"No\")\n",
    "    else:\n",
    "        print(\"Yes\")\n",
    "\n",
    "string = \"I am doing great\"\n",
    "sub_str= \"gre\"\n",
    "check(string,sub_str)"
   ]
  },
  {
   "cell_type": "code",
   "execution_count": 13,
   "id": "a4a26d7e",
   "metadata": {},
   "outputs": [
    {
     "name": "stdout",
     "output_type": "stream",
     "text": [
      "Savan is a mechanical engineer but he is learning coding and trying his best\n",
      "Words in the string:\n",
      "Counter({'is': 2, 'Savan': 1, 'a': 1, 'mechanical': 1, 'engineer': 1, 'but': 1, 'he': 1, 'learning': 1, 'coding': 1, 'and': 1, 'trying': 1, 'his': 1, 'best': 1})\n"
     ]
    }
   ],
   "source": [
    "# Python – Words Frequency in String Shorthands\n",
    "from collections import Counter\n",
    "string = \"Savan is a mechanical engineer but he is learning coding and trying his best\"\n",
    "print(string)\n",
    "word = Counter(string.split())\n",
    "print(\"Words in the string:\")\n",
    "print(word)\n"
   ]
  },
  {
   "cell_type": "code",
   "execution_count": 15,
   "id": "2fb2971c",
   "metadata": {},
   "outputs": [
    {
     "name": "stdout",
     "output_type": "stream",
     "text": [
      "The string after changing case: Savan Is A Mechanical Engineer But He Is Learning Coding And Trying His Best\n"
     ]
    }
   ],
   "source": [
    "# Python – Convert Snake case to Pascal case\n",
    "string = \"Savan is a mechanical engineer but he is learning coding and trying his best\"\n",
    "\n",
    "res = string.replace(\"-\",\" \").title().replace(\" \",\" \")\n",
    "\n",
    "print(\"The string after changing case: \" + str(res))"
   ]
  },
  {
   "cell_type": "code",
   "execution_count": 21,
   "id": "4fa7ed9f",
   "metadata": {},
   "outputs": [
    {
     "name": "stdout",
     "output_type": "stream",
     "text": [
      "5\n",
      "5\n"
     ]
    }
   ],
   "source": [
    "# Find length of a string in python (2 ways)\n",
    "# Method 1\n",
    "def length(string):\n",
    "    counter=0\n",
    "    for i in string:\n",
    "        counter+=1\n",
    "    return counter\n",
    "string='savan'\n",
    "print(length(string))\n",
    "\n",
    "# Method 2\n",
    "string='savan'\n",
    "print(len(string))"
   ]
  },
  {
   "cell_type": "code",
   "execution_count": 19,
   "id": "144827b2",
   "metadata": {},
   "outputs": [
    {
     "name": "stdout",
     "output_type": "stream",
     "text": [
      "am\n"
     ]
    }
   ],
   "source": [
    "# Python program to print even length words in a string\n",
    "def printWords(s):\n",
    "    s= s.split(' ')\n",
    "    for word in s:\n",
    "        if len(word)%2==0:\n",
    "            print(word)\n",
    "s = \"i am savan\"\n",
    "printWords(s)"
   ]
  },
  {
   "cell_type": "code",
   "execution_count": 4,
   "id": "bda0ae52",
   "metadata": {},
   "outputs": [
    {
     "name": "stdout",
     "output_type": "stream",
     "text": [
      "Not Accepted\n"
     ]
    }
   ],
   "source": [
    "# Python program to accept the strings which contains all vowels\n",
    "def check(string):\n",
    "    string = string.lower()\n",
    "    vowels = set(\"aeiouj\")\n",
    "    s = set({})\n",
    "    for char in string:\n",
    "        if char in vowels:\n",
    "            s.add(char)\n",
    "        else:\n",
    "            pass\n",
    "    if len(s) == len(vowels):\n",
    "        print(\"Accepted\")\n",
    "    else:\n",
    "        print(\"Not Accepted\")\n",
    "        \n",
    "if __name__ == \"__main__\":\n",
    "     string = \"SSEquoial\"\n",
    "     check(string)\n"
   ]
  },
  {
   "cell_type": "code",
   "execution_count": 11,
   "id": "4b32df2e",
   "metadata": {},
   "outputs": [
    {
     "name": "stdout",
     "output_type": "stream",
     "text": [
      "No of matching characters are:  1\n"
     ]
    }
   ],
   "source": [
    "# Python | Count the Number of matching characters in a pair of string\n",
    "def count(str1,str2):\n",
    "    c,j = 0,0\n",
    "    for i in str1:\n",
    "        if str2.find(i)>= 0 and j == str2.find(i):\n",
    "             c += 1\n",
    "        j += 1\n",
    "    print('No of matching characters are: ',c)\n",
    "    \n",
    "def main():\n",
    "    str1 = \"ax\"\n",
    "    str2 = \"aasasa\"\n",
    "    count(str1,str2)\n",
    "    \n",
    "if __name__==\"__main__\":\n",
    "    main()"
   ]
  },
  {
   "cell_type": "code",
   "execution_count": 21,
   "id": "2c2e27a0",
   "metadata": {},
   "outputs": [
    {
     "name": "stdout",
     "output_type": "stream",
     "text": [
      "without Order: gofbhkrd\n",
      "with order: gfrodbhk\n"
     ]
    }
   ],
   "source": [
    "# Remove all duplicates from a given string in Python\n",
    "\n",
    "def remove(str):\n",
    "    s=set(str)\n",
    "    s=\"\".join(s)\n",
    "    print(\"without Order:\",s)\n",
    "    t=\"\"\n",
    "    for i in str:\n",
    "        if(i in t):\n",
    "            pass\n",
    "        else:\n",
    "            t=t+i\n",
    "    print(\"with order:\",t)\n",
    "str = \"ggffrooddgbbhkd\"\n",
    "remove(str)"
   ]
  },
  {
   "cell_type": "code",
   "execution_count": null,
   "id": "ea7244fa",
   "metadata": {},
   "outputs": [],
   "source": []
  }
 ],
 "metadata": {
  "kernelspec": {
   "display_name": "Python 3 (ipykernel)",
   "language": "python",
   "name": "python3"
  },
  "language_info": {
   "codemirror_mode": {
    "name": "ipython",
    "version": 3
   },
   "file_extension": ".py",
   "mimetype": "text/x-python",
   "name": "python",
   "nbconvert_exporter": "python",
   "pygments_lexer": "ipython3",
   "version": "3.9.7"
  }
 },
 "nbformat": 4,
 "nbformat_minor": 5
}
