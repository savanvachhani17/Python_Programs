{
 "cells": [
  {
   "cell_type": "code",
   "execution_count": 1,
   "id": "28234596",
   "metadata": {},
   "outputs": [
    {
     "name": "stdout",
     "output_type": "stream",
     "text": [
      "The string is:\n",
      "abcbabda\n",
      "The given string starts and ends with the same character\n"
     ]
    }
   ],
   "source": [
    "# Python – Check whether a string starts and ends with the same character or not\n",
    "import re\n",
    "\n",
    "regex_expression = r'^[a-z]$|^([a-z]).*\\1$'\n",
    "\n",
    "def check_string(my_string):\n",
    "\n",
    "   if(re.search(regex_expression, my_string)):\n",
    "      print(\"The given string starts and ends with the same character\")\n",
    "   else:\n",
    "      print(\"The given string doesnot start and end with the same character\")\n",
    "\n",
    "my_string = \"abcbabda\"\n",
    "\n",
    "print(\"The string is:\")\n",
    "print(my_string)\n",
    "\n",
    "check_string(my_string)"
   ]
  },
  {
   "cell_type": "code",
   "execution_count": 2,
   "id": "d9198f9d",
   "metadata": {},
   "outputs": [
    {
     "name": "stdout",
     "output_type": "stream",
     "text": [
      "Enter the string: savan is good\n",
      "No, the required sequence does not exists!\n"
     ]
    }
   ],
   "source": [
    "# Python regex to find sequences of one upper case letter followed by lower case letters\n",
    "import re \n",
    "\n",
    "def search(ip_str): \n",
    "    re_exp = '[A-Z]+[a-z]+$'\n",
    "\n",
    "    if re.search(re_exp, ip_str): \n",
    "        print('Yes, the required sequence exists!')\n",
    "    else: \n",
    "         print('No, the required sequence does not exists!')\n",
    "ip_str = input(\"Enter the string: \")\n",
    "search(ip_str)"
   ]
  },
  {
   "cell_type": "code",
   "execution_count": null,
   "id": "9269add3",
   "metadata": {},
   "outputs": [],
   "source": [
    "# Python Program to Remove duplicate words from Sentence\n",
    "from collections import Counter\n",
    "def remov_duplicates(st):\n",
    "   st = st.split(\" \")\n",
    "   for i in range(0, len(st)):\n",
    "      st[i] = \"\".join(st[i])\n",
    "      dupli = Counter(st)\n",
    "      s = \" \".join(dupli.keys())\n",
    "      print (\"After removing the sentence is ::>\",s)\n",
    "      # Driver program\n",
    "   if __name__ == \"__main__\":\n",
    "      st = input(\"Enter the sentence\")\n",
    "remov_duplicates(st)"
   ]
  },
  {
   "cell_type": "code",
   "execution_count": null,
   "id": "a8db202c",
   "metadata": {},
   "outputs": [],
   "source": [
    "# Python | Remove all characters except letters and numbers\n",
    "import re \n",
    "\n",
    "ip_str = input(\"Enter the string: \")\n",
    "# Using isalpha() and isnumeric()\n",
    "ele = list([i for i in ip_str if i.isalpha() or i.isnumeric()]) \n",
    "  \n",
    "op_result = \"\".join(ele)  \n",
    "\n",
    "print (\"Output string is:\", op_result)"
   ]
  },
  {
   "cell_type": "code",
   "execution_count": null,
   "id": "1b2588a8",
   "metadata": {},
   "outputs": [],
   "source": [
    "# Python Regex | Program to accept string ending with alphanumeric character\n",
    "import re\n",
    "\n",
    "regex = '[a-zA-z0-9] $'\n",
    "\n",
    "\n",
    "def check (string): \n",
    "\n",
    "if (re.search (regex, string)): \n",
    "\n",
    "    print( \"Accept\" ) \n",
    "\n",
    "else : \n",
    "    print ( \" Discard \" ) \n",
    "\n",
    "Driver code\n",
    "\n",
    "if __ name__ = = '__main__ ' : \n",
    "    string = < code class = \"string\"> \"ankirai @\"\n",
    "    check (string)\n",
    "    string = \"ankitrai326\"\n",
    "    check (string)\n",
    "    string = \"ankit . \"\n",
    "    check (string)\n",
    "    string = \"pythonengineering\"\n",
    "    check (string)"
   ]
  },
  {
   "cell_type": "code",
   "execution_count": null,
   "id": "2bbd390a",
   "metadata": {},
   "outputs": [],
   "source": [
    "# Python Regex – Program to accept string starting with vowel\n",
    "string = input('Enter any String: ')\n",
    "\n",
    "# vowel alphabet\n",
    "vowel = 'aeiou'\n",
    "\n",
    "# check string starts with vowel or consonant\n",
    "if string[0].lower() in vowel:\n",
    "   print(string,'starts with vowel',string[0])\n",
    "else:\n",
    "   print(string,'starts with consonant',string[0])"
   ]
  },
  {
   "cell_type": "code",
   "execution_count": null,
   "id": "368ad7ed",
   "metadata": {},
   "outputs": [],
   "source": [
    "# Python Program to check if a string starts with a substring using regex\n",
    "import re\n",
    "\n",
    "str = 'Python is a programming language.'\n",
    "#search using regex\n",
    "x = re.search('^Python', str)\n",
    "\n",
    "if(x!=None):\n",
    "\tprint('The line starts with \\'Python\\'.')\n",
    "else:\n",
    "\tprint('The line does not start with \\'Python\\'.')"
   ]
  },
  {
   "cell_type": "code",
   "execution_count": null,
   "id": "9f0a89a1",
   "metadata": {},
   "outputs": [],
   "source": [
    "# Python Program to Check if an URL is valid or not using Regular Expression\n",
    "import re\n",
    " \n",
    "def check_url(ip_url):\n",
    "# Regular expression for URL\n",
    "    re_exp = (\"((http|https)://)(www.)?\" + \"[a-zA-Z0-9@:%._\\\\+~#?&//=]\" +\n",
    "             \"{2,256}\\\\.[a-z]\" + \"{2,6}\\\\b([-a-zA-Z0-9@:%\" + \"._\\\\+~#?&//=]*)\")\n",
    "\n",
    "    exp = re.compile(re_exp)\n",
    "\n",
    "    if (ip_url == None):\n",
    "        print(\"Input string is empty\")\n",
    "\n",
    "    if(re.search(exp, ip_url)):\n",
    "        print(\"Input URL is valid!\")\n",
    "    else:\n",
    "        print(\"Input URL is invalid!\")\n",
    "\n",
    "ip_url = input(\"Enter the string: \")\n",
    "check_url(ip_url)"
   ]
  },
  {
   "cell_type": "code",
   "execution_count": 4,
   "id": "4cec961a",
   "metadata": {},
   "outputs": [
    {
     "name": "stdout",
     "output_type": "stream",
     "text": [
      "Enter the url: https://github.com/savanvachhani17/Python_Programs\n",
      "Protocol:  ['https']\n",
      "Hostname:  []\n"
     ]
    }
   ],
   "source": [
    "# Parsing and Processing URL using Python – Regex\n",
    "ip_url = input(\"Enter the url: \")\n",
    "\n",
    "protocol = re.findall('(\\w+)://', ip_url) \n",
    "print(\"Protocol: \", protocol) \n",
    "\n",
    "hostname = re.findall('://www.([\\w\\-\\.]+)', ip_url) \n",
    "print(\"Hostname: \", hostname)"
   ]
  },
  {
   "cell_type": "code",
   "execution_count": 5,
   "id": "0a29f65e",
   "metadata": {},
   "outputs": [
    {
     "name": "stdout",
     "output_type": "stream",
     "text": [
      "122.134.3.123 is a valid IP address.\n",
      "44.235.34.1 is a valid IP address.\n"
     ]
    }
   ],
   "source": [
    "# Python Program to validate an IP address using ReGex\n",
    "import re \n",
    "  \n",
    "regexIP = '''^(25[0-5]|2[0-4][0-9]|[0-1]?[0-9][0-9]?)\\.( \n",
    "    25[0-5]|2[0-4][0-9]|[0-1]?[0-9][0-9]?)\\.( \n",
    "    25[0-5]|2[0-4][0-9]|[0-1]?[0-9][0-9]?)\\.( \n",
    "    25[0-5]|2[0-4][0-9]|[0-1]?[0-9][0-9]?)'''\n",
    "  \n",
    "def validateIP(strIP): \n",
    "  \n",
    "    if(re.search(regexIP, strIP)):\n",
    "        print(f\"{strIP} is a valid IP address.\") \n",
    "      \n",
    "    else: \n",
    "        print(f\"{strIP} is an invalid IP address.\") \n",
    "  \n",
    "  \n",
    "if __name__ == '__main__' : \n",
    "      \n",
    "    strIP = \"122.134.3.123\"\n",
    "    validateIP(strIP) \n",
    "  \n",
    "    strIP = \"44.235.34.1\"\n",
    "    validateIP(strIP) \n",
    "  \n",
    "    strIP = \"277.13.23.17\""
   ]
  },
  {
   "cell_type": "code",
   "execution_count": null,
   "id": "b74713c7",
   "metadata": {},
   "outputs": [],
   "source": []
  }
 ],
 "metadata": {
  "kernelspec": {
   "display_name": "Python 3 (ipykernel)",
   "language": "python",
   "name": "python3"
  },
  "language_info": {
   "codemirror_mode": {
    "name": "ipython",
    "version": 3
   },
   "file_extension": ".py",
   "mimetype": "text/x-python",
   "name": "python",
   "nbconvert_exporter": "python",
   "pygments_lexer": "ipython3",
   "version": "3.9.7"
  }
 },
 "nbformat": 4,
 "nbformat_minor": 5
}
