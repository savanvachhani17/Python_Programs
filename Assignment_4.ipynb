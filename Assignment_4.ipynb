{
 "cells": [
  {
   "cell_type": "code",
   "execution_count": 12,
   "id": "4c15b405",
   "metadata": {},
   "outputs": [
    {
     "name": "stdout",
     "output_type": "stream",
     "text": [
      "The smallest element is: 1\n"
     ]
    }
   ],
   "source": [
    "#Python program to find smallest number in a list\n",
    "list=[1,3,6,7,9,10]\n",
    "list.sort()\n",
    "print('The smallest element is:',*list[:1])\n",
    "        "
   ]
  },
  {
   "cell_type": "code",
   "execution_count": 17,
   "id": "8009f1a4",
   "metadata": {},
   "outputs": [
    {
     "name": "stdout",
     "output_type": "stream",
     "text": [
      "The smallest element is: 10\n"
     ]
    }
   ],
   "source": [
    "# Python program to find largest number in a list\n",
    "list=[1,3,6,7,9,10]\n",
    "list.sort(reverse=True)\n",
    "print('The smallest element is:',*list[:1])"
   ]
  },
  {
   "cell_type": "code",
   "execution_count": 19,
   "id": "4f124085",
   "metadata": {},
   "outputs": [
    {
     "name": "stdout",
     "output_type": "stream",
     "text": [
      "The smallest element is: 9\n"
     ]
    }
   ],
   "source": [
    "# Python program to find second largest number in a list\n",
    "list=[1,3,6,7,9,10]\n",
    "list.sort(reverse=True)\n",
    "print('The smallest element is:',*list[1:2])"
   ]
  },
  {
   "cell_type": "code",
   "execution_count": 21,
   "id": "adc322a5",
   "metadata": {},
   "outputs": [
    {
     "name": "stdout",
     "output_type": "stream",
     "text": [
      "The 3 largest elements from a list are: [89, 20, 10]\n"
     ]
    }
   ],
   "source": [
    "# Python program to find N largest elements from a list\n",
    "list=[3,10,1,89,20]\n",
    "n=3\n",
    "list.sort(reverse=True)\n",
    "print('The 3 largest elements from a list are:',list[:3])"
   ]
  },
  {
   "cell_type": "code",
   "execution_count": 42,
   "id": "2e4d15a9",
   "metadata": {},
   "outputs": [
    {
     "name": "stdout",
     "output_type": "stream",
     "text": [
      "The even numbers are: 2\n",
      "The even numbers are: 4\n",
      "The even numbers are: 6\n",
      "The even numbers are: 8\n",
      "The even numbers are: 10\n"
     ]
    }
   ],
   "source": [
    "# Python program to print even numbers in a list\n",
    "list=[2,4,6,7,8,10]\n",
    "\n",
    "for i in list:\n",
    "    if i%2==0:\n",
    "        print('The even numbers are:',i)"
   ]
  },
  {
   "cell_type": "code",
   "execution_count": 44,
   "id": "da11057e",
   "metadata": {},
   "outputs": [
    {
     "name": "stdout",
     "output_type": "stream",
     "text": [
      "The odd numbers are: 7\n",
      "The odd numbers are: 11\n",
      "The odd numbers are: 13\n"
     ]
    }
   ],
   "source": [
    "# Python program to print odd numbers in a List\n",
    "list=[2,4,6,7,8,10,11,13]\n",
    "\n",
    "for i in list:\n",
    "    if i%2!=0:\n",
    "        print('The odd numbers are:',i)"
   ]
  },
  {
   "cell_type": "code",
   "execution_count": 9,
   "id": "af9cef5b",
   "metadata": {},
   "outputs": [
    {
     "name": "stdout",
     "output_type": "stream",
     "text": [
      "All even numbers are: 0\n",
      "All even numbers are: 2\n",
      "All even numbers are: 4\n",
      "All even numbers are: 6\n",
      "All even numbers are: 8\n",
      "All even numbers are: 10\n",
      "All even numbers are: 12\n",
      "All even numbers are: 14\n",
      "All even numbers are: 16\n",
      "All even numbers are: 18\n"
     ]
    }
   ],
   "source": [
    "# Python program to print all even numbers in a range\n",
    "n=20\n",
    "for i in range(n):\n",
    "    if i%2==0:\n",
    "        print('All even numbers are:',i)"
   ]
  },
  {
   "cell_type": "code",
   "execution_count": 16,
   "id": "69befdd4",
   "metadata": {},
   "outputs": [
    {
     "name": "stdout",
     "output_type": "stream",
     "text": [
      "All odd numbers are: 1\n",
      "All odd numbers are: 3\n",
      "All odd numbers are: 5\n",
      "All odd numbers are: 7\n",
      "All odd numbers are: 9\n",
      "All odd numbers are: 11\n",
      "All odd numbers are: 13\n",
      "All odd numbers are: 15\n",
      "All odd numbers are: 17\n",
      "All odd numbers are: 19\n",
      "All odd numbers are: 21\n",
      "All odd numbers are: 23\n"
     ]
    }
   ],
   "source": [
    "# Python program to print all odd numbers in a range\n",
    "n=25\n",
    "for i in range(n):\n",
    "    if i%2!=0:\n",
    "        print('All odd numbers are:',i)"
   ]
  },
  {
   "cell_type": "code",
   "execution_count": 18,
   "id": "d8320da5",
   "metadata": {},
   "outputs": [
    {
     "name": "stdout",
     "output_type": "stream",
     "text": [
      "The positive numbers are: 9\n",
      "The positive numbers are: 23\n",
      "The positive numbers are: 29\n"
     ]
    }
   ],
   "source": [
    "# Python program to print positive numbers in a list\n",
    "list=[0,9,-2,-6,-10,23,29]\n",
    "for i in list:\n",
    "    if i>0:\n",
    "        print('The positive numbers are:',i)"
   ]
  },
  {
   "cell_type": "code",
   "execution_count": 19,
   "id": "2f434e6a",
   "metadata": {},
   "outputs": [
    {
     "name": "stdout",
     "output_type": "stream",
     "text": [
      "The negative numbers are: -2\n",
      "The negative numbers are: -6\n",
      "The negative numbers are: -10\n"
     ]
    }
   ],
   "source": [
    "# Python program to print negative numbers in a list\n",
    "list=[0,9,-2,-6,-10,23,29]\n",
    "for i in list:\n",
    "    if i<0:\n",
    "        print('The negative numbers are:',i)\n",
    "\n"
   ]
  },
  {
   "cell_type": "code",
   "execution_count": 24,
   "id": "bdc24a84",
   "metadata": {},
   "outputs": [
    {
     "name": "stdout",
     "output_type": "stream",
     "text": [
      "The positive numbers are: 1\n",
      "The positive numbers are: 2\n",
      "The positive numbers are: 3\n",
      "The positive numbers are: 4\n",
      "The positive numbers are: 5\n",
      "The positive numbers are: 6\n",
      "The positive numbers are: 7\n",
      "The positive numbers are: 8\n",
      "The positive numbers are: 9\n"
     ]
    }
   ],
   "source": [
    "# Python program to print all positive numbers in a range\n",
    "for i in range(-10,10,1):\n",
    "    if i>0:\n",
    "        print('The positive numbers are:',i)"
   ]
  },
  {
   "cell_type": "code",
   "execution_count": null,
   "id": "dc5f7b17",
   "metadata": {},
   "outputs": [],
   "source": []
  }
 ],
 "metadata": {
  "kernelspec": {
   "display_name": "Python 3 (ipykernel)",
   "language": "python",
   "name": "python3"
  },
  "language_info": {
   "codemirror_mode": {
    "name": "ipython",
    "version": 3
   },
   "file_extension": ".py",
   "mimetype": "text/x-python",
   "name": "python",
   "nbconvert_exporter": "python",
   "pygments_lexer": "ipython3",
   "version": "3.9.7"
  }
 },
 "nbformat": 4,
 "nbformat_minor": 5
}
