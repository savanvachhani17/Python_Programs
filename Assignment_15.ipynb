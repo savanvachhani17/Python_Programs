{
 "cells": [
  {
   "cell_type": "code",
   "execution_count": 1,
   "id": "477d467d",
   "metadata": {},
   "outputs": [
    {
     "name": "stdout",
     "output_type": "stream",
     "text": [
      "Following is a Topological Sort of the given graph\n",
      "[5, 4, 2, 3, 1, 0]\n"
     ]
    }
   ],
   "source": [
    "from collections import defaultdict\n",
    " \n",
    "#Class to represent a graph\n",
    "class Graph:\n",
    "    def __init__(self,vertices):\n",
    "        self.graph = defaultdict(list) #dictionary containing adjacency List\n",
    "        self.V = vertices #No. of vertices\n",
    " \n",
    "    # function to add an edge to graph\n",
    "    def addEdge(self,u,v):\n",
    "        self.graph[u].append(v)\n",
    " \n",
    "    # A recursive function used by topologicalSort\n",
    "    def topologicalSortUtil(self,v,visited,stack):\n",
    " \n",
    "        # Mark the current node as visited.\n",
    "        visited[v] = True\n",
    " \n",
    "        # Recur for all the vertices adjacent to this vertex\n",
    "        for i in self.graph[v]:\n",
    "            if visited[i] == False:\n",
    "                self.topologicalSortUtil(i,visited,stack)\n",
    " \n",
    "        # Push current vertex to stack which stores result\n",
    "        stack.insert(0,v)\n",
    " \n",
    "    # The function to do Topological Sort. It uses recursive\n",
    "    # topologicalSortUtil()\n",
    "    def topologicalSort(self):\n",
    "        # Mark all the vertices as not visited\n",
    "        visited = [False]*self.V\n",
    "        stack =[]\n",
    " \n",
    "        # Call the recursive helper function to store Topological\n",
    "        # Sort starting from all vertices one by one\n",
    "        for i in range(self.V):\n",
    "            if visited[i] == False:\n",
    "                self.topologicalSortUtil(i,visited,stack)\n",
    "        # Print contents of stack\n",
    "        print(stack)\n",
    " \n",
    "g= Graph(6)\n",
    "g.addEdge(5, 2);\n",
    "g.addEdge(5, 0);\n",
    "g.addEdge(4, 0);\n",
    "g.addEdge(4, 1);\n",
    "g.addEdge(2, 3);\n",
    "g.addEdge(3, 1);\n",
    " \n",
    "print(\"Following is a Topological Sort of the given graph\")\n",
    "g.topologicalSort()"
   ]
  },
  {
   "cell_type": "code",
   "execution_count": 2,
   "id": "0cce8b60",
   "metadata": {},
   "outputs": [
    {
     "name": "stdout",
     "output_type": "stream",
     "text": [
      "2\n",
      "24\n",
      "45\n",
      "66\n",
      "75\n",
      "90\n",
      "170\n",
      "802\n"
     ]
    }
   ],
   "source": [
    "#Q2\n",
    "def countingSort(arr, exp1): \n",
    "    \n",
    "    n = len(arr) \n",
    "    \n",
    "    # The output array elements that will have sorted arr \n",
    "    output = [0] * (n) \n",
    "    \n",
    "    # initialize count array as 0 \n",
    "    count = [0] * (10) \n",
    "    \n",
    "    # Store count of occurrences in count[] \n",
    "    for i in range(0, n): \n",
    "        index = (arr[i]/exp1) \n",
    "        count[int((index)%10)] += 1\n",
    "    \n",
    "    # Change count[i] so that count[i] now contains actual \n",
    "    #  position of this digit in output array \n",
    "    for i in range(1,10): \n",
    "        count[i] += count[i-1] \n",
    "    \n",
    "    # Build the output array \n",
    "    i = n-1\n",
    "    while i>=0: \n",
    "        index = (arr[i]/exp1) \n",
    "        output[ count[ int((index)%10) ] - 1] = arr[i] \n",
    "        count[int((index)%10)] -= 1\n",
    "        i -= 1\n",
    "    \n",
    "    # Copying the output array to arr[], \n",
    "    # so that arr now contains sorted numbers \n",
    "    i = 0\n",
    "    for i in range(0,len(arr)): \n",
    "        arr[i] = output[i] \n",
    "  \n",
    "# Method to do Radix Sort\n",
    "def radixSort(arr):\n",
    "  \n",
    "    # Find the maximum number to know number of digits\n",
    "    max1 = max(arr)\n",
    "  \n",
    "    # Do counting sort for every digit. Note that instead\n",
    "    # of passing digit number, exp is passed. exp is 10^i\n",
    "    # where i is current digit number\n",
    "    exp = 1\n",
    "    while max1/exp > 0:\n",
    "        countingSort(arr,exp)\n",
    "        exp *= 10\n",
    "  \n",
    "# Driver code to test above\n",
    "arr = [ 170, 45, 75, 90, 802, 24, 2, 66]\n",
    "radixSort(arr)\n",
    "  \n",
    "for i in range(len(arr)):\n",
    "    print(arr[i]),"
   ]
  },
  {
   "cell_type": "code",
   "execution_count": 3,
   "id": "b7367c48",
   "metadata": {},
   "outputs": [
    {
     "name": "stdout",
     "output_type": "stream",
     "text": [
      "Sorted array is:\n",
      "1 3 3 4 4 5 6 8 "
     ]
    }
   ],
   "source": [
    "#Q3\n",
    "def insertion_sort(arr):\n",
    "   for i in range(1, len(arr)):\n",
    "      temp = arr[i]\n",
    "      pos = binary_search(arr, temp, 0, i) + 1\n",
    "      for k in range(i, pos, -1):\n",
    "         arr[k] = arr[k - 1]\n",
    "      arr[pos] = temp\n",
    "def binary_search(arr, key, start, end):\n",
    "   #key\n",
    "   if end - start <= 1:\n",
    "      if key < arr[start]:\n",
    "         return start - 1\n",
    "      else:\n",
    "         return start\n",
    "   mid = (start + end)//2\n",
    "   if arr[mid] < key:\n",
    "      return binary_search(arr, key, mid, end)\n",
    "   elif arr[mid] > key:\n",
    "      return binary_search(arr, key, start, mid)\n",
    "   else:\n",
    "      return mid\n",
    "# main\n",
    "arr = [1,5,3,4,8,6,3,4]\n",
    "n = len(arr)\n",
    "insertion_sort(arr)\n",
    "print(\"Sorted array is:\")\n",
    "for i in range(n):\n",
    "   print(arr[i],end=\" \")\n",
    " "
   ]
  },
  {
   "cell_type": "code",
   "execution_count": 4,
   "id": "355a54f3",
   "metadata": {},
   "outputs": [
    {
     "name": "stdout",
     "output_type": "stream",
     "text": [
      "The original array is: [2, 10, 20, 5, 3, 4]\n",
      "Sorted array is [2, 3, 4, 5, 10, 20]\n"
     ]
    }
   ],
   "source": [
    "#Q4\n",
    "def c_swap(a, b, c, d):\n",
    "    if (d == 1 and a[b] > a[c]) or (d == 0 and a[b] < a[c]):\n",
    "        a[b], a[c] = a[c], a[b]\n",
    "\n",
    "def merge(a, b, cnt, d):\n",
    "    if cnt > 1:\n",
    "        k = int(cnt / 2)\n",
    "        for i in range(b, b + k):\n",
    "            c_swap(a, i, i + k, d)\n",
    "        merge(a, b, k, d)\n",
    "        merge(a, b + k, k, d)\n",
    " \n",
    "def bitonic_sort(a, b, cnt, d):\n",
    "    if cnt > 1:\n",
    "        k = int(cnt / 2)\n",
    "        bitonic_sort(a, b, k, 1)\n",
    "        bitonic_sort(a, b + k, k, 0)\n",
    "        merge(a, b, cnt, d)\n",
    "  \n",
    "def sort(a, B, u):\n",
    "    bitonic_sort(a, 0, B, u)\n",
    "\n",
    "# driver code   \n",
    "a = [2, 10, 20, 5, 3, 4]\n",
    "n=len(a)\n",
    "print(\"The original array is:\", a)    \n",
    "u = 1\n",
    "  \n",
    "sort(a, n, u)\n",
    "print(\"Sorted array is\", a)"
   ]
  },
  {
   "cell_type": "code",
   "execution_count": 5,
   "id": "70c5ef12",
   "metadata": {},
   "outputs": [
    {
     "name": "stdout",
     "output_type": "stream",
     "text": [
      "Before:  [75, 16, 55, 19, 48, 14, 2, 61, 22, 100]\n",
      "After:   [2, 14, 16, 19, 22, 48, 55, 61, 75, 100]\n"
     ]
    }
   ],
   "source": [
    "#Q5\n",
    "def combsort(num):\n",
    "    gap = len(num)\n",
    "    swaps = True\n",
    "    while gap > 1 or swaps:\n",
    "        gap = max(1, int(gap / 1.25))  # minimum gap is 1\n",
    "        swaps = False\n",
    "        for i in range(len(num) - gap):\n",
    "            j = i+gap\n",
    "            if num[i] > num[j]:\n",
    "                num[i], num[j] = num[j], num[i]\n",
    "                swaps = True\n",
    " \n",
    "num_list = [75, 16, 55, 19, 48, 14, 2, 61, 22, 100]\n",
    "print(\"Before: \", num_list)\n",
    "combsort(num_list)\n",
    "print(\"After:  \", num_list)"
   ]
  },
  {
   "cell_type": "code",
   "execution_count": 6,
   "id": "386627fc",
   "metadata": {},
   "outputs": [
    {
     "name": "stdout",
     "output_type": "stream",
     "text": [
      "The original array is:  [9, 7, 2, 3, 4, 8, 6]\n",
      "The Sorted order is :  2 3 4 6 7 8 9 "
     ]
    }
   ],
   "source": [
    "#Q6\n",
    "def pigeonhole_sort(a):\n",
    "    minimum = min(a)\n",
    "    maximum = max(a)\n",
    "    s = maximum - minimum + 1\n",
    "    h = [0] * s #holes\n",
    "    for x in a:\n",
    "        assert type(x) is int, \"integers only please\"\n",
    "        h[x - minimum] += 1\n",
    "    i = 0\n",
    "    for c in range(s):\n",
    "        while h[c] > 0:\n",
    "            h[c] -= 1\n",
    "            a[i] = c + minimum\n",
    "            i += 1\n",
    " \n",
    "# driver code\n",
    "array = [9, 7, 2, 3, 4, 8, 6]\n",
    "print(\"The original array is: \", array)\n",
    "print(\"The Sorted order is : \", end = ' ')\n",
    "pigeonhole_sort(array)      \n",
    "for i in range(0, len(array)):\n",
    "    print(array[i], end = ' ')"
   ]
  },
  {
   "cell_type": "code",
   "execution_count": 7,
   "id": "9168f70c",
   "metadata": {},
   "outputs": [
    {
     "name": "stdout",
     "output_type": "stream",
     "text": [
      "Sorted array is:\n",
      "0\n",
      "1\n",
      "2\n",
      "2\n",
      "4\n",
      "5\n",
      "8\n"
     ]
    }
   ],
   "source": [
    "def cocktailSort(a):\n",
    "    n = len(a)\n",
    "    swapped = True\n",
    "    start = 0\n",
    "    end = n-1\n",
    "    while (swapped==True):\n",
    "  \n",
    "        # reset the swapped flag on entering the loop,\n",
    "        # because it might be true from a previous\n",
    "        # iteration.\n",
    "        swapped = False\n",
    "  \n",
    "        # loop from left to right same as the bubble\n",
    "        # sort\n",
    "        for i in range (start, end):\n",
    "            if (a[i] > a[i+1]) :\n",
    "                a[i], a[i+1]= a[i+1], a[i]\n",
    "                swapped=True\n",
    "  \n",
    "        # if nothing moved, then array is sorted.\n",
    "        if (swapped==False):\n",
    "            break\n",
    "  \n",
    "        # otherwise, reset the swapped flag so that it\n",
    "        # can be used in the next stage\n",
    "        swapped = False\n",
    "  \n",
    "        # move the end point back by one, because\n",
    "        # item at the end is in its rightful spot\n",
    "        end = end-1\n",
    "  \n",
    "        # from right to left, doing the same\n",
    "        # comparison as in the previous stage\n",
    "        for i in range(end-1, start-1,-1):\n",
    "            if (a[i] > a[i+1]):\n",
    "                a[i], a[i+1] = a[i+1], a[i]\n",
    "                swapped = True\n",
    "                \n",
    "        # increase the starting point, because\n",
    "        # the last stage would have moved the next\n",
    "        # smallest number to its rightful spot.\n",
    "        start = start+1\n",
    "  \n",
    "# Driver code to test above\n",
    "a = [5, 1, 4, 2, 8, 0, 2]\n",
    "cocktailSort(a)\n",
    "print(\"Sorted array is:\")\n",
    "for i in range(len(a)):\n",
    "    print (\"%d\" %a[i]),"
   ]
  },
  {
   "cell_type": "code",
   "execution_count": 8,
   "id": "9cdfc19c",
   "metadata": {},
   "outputs": [
    {
     "name": "stdout",
     "output_type": "stream",
     "text": [
      "Sorted sequence after applying Gnome Sort :\n",
      "-9\n",
      "2\n",
      "10\n",
      "34\n"
     ]
    }
   ],
   "source": [
    "def gnomeSort( arr, n):\n",
    "    index = 0\n",
    "    while index < n:\n",
    "        if index == 0:\n",
    "            index = index + 1\n",
    "        if arr[index] >= arr[index - 1]:\n",
    "            index = index + 1\n",
    "        else:\n",
    "            arr[index], arr[index-1] = arr[index-1], arr[index]\n",
    "            index = index - 1\n",
    " \n",
    "    return arr\n",
    " \n",
    "# Driver Code\n",
    "arr = [ 34, 2, 10, -9]\n",
    "n = len(arr)\n",
    " \n",
    "arr = gnomeSort(arr, n)\n",
    "print(\"Sorted sequence after applying Gnome Sort :\",)\n",
    "for i in arr:\n",
    "    print(i),"
   ]
  },
  {
   "cell_type": "code",
   "execution_count": 9,
   "id": "9dfb001e",
   "metadata": {},
   "outputs": [
    {
     "name": "stdout",
     "output_type": "stream",
     "text": [
      "-9 2 10 34 "
     ]
    }
   ],
   "source": [
    "#Q9\n",
    "def oddEvenSort(arr, n):\n",
    "    # Initially array is unsorted\n",
    "    isSorted = 0\n",
    "    while isSorted == 0:\n",
    "        isSorted = 1\n",
    "        temp = 0\n",
    "        for i in range(1, n-1, 2):\n",
    "            if arr[i] > arr[i+1]:\n",
    "                arr[i], arr[i+1] = arr[i+1], arr[i]\n",
    "                isSorted = 0\n",
    "                  \n",
    "        for i in range(0, n-1, 2):\n",
    "            if arr[i] > arr[i+1]:\n",
    "                arr[i], arr[i+1] = arr[i+1], arr[i]\n",
    "                isSorted = 0\n",
    "      \n",
    "    return\n",
    "  \n",
    "  \n",
    "arr = [34, 2, 10, -9]\n",
    "n = len(arr)\n",
    "  \n",
    "oddEvenSort(arr, n);\n",
    "for i in range(0, n):\n",
    "    print(arr[i], end =\" \")"
   ]
  },
  {
   "cell_type": "code",
   "execution_count": 10,
   "id": "d4f6935a",
   "metadata": {},
   "outputs": [
    {
     "name": "stdout",
     "output_type": "stream",
     "text": [
      "Sorted array :\n",
      "0\n",
      "1\n",
      "2\n",
      "3\n",
      "4\n",
      "5\n"
     ]
    }
   ],
   "source": [
    "#Q10\n",
    "import random\n",
    " \n",
    "# Sorts array a[0..n-1] using Bogo sort\n",
    "def bogoSort(a):\n",
    "    n = len(a)\n",
    "    while (is_sorted(a)== False):\n",
    "        shuffle(a)\n",
    " \n",
    "# To check if array is sorted or not\n",
    "def is_sorted(a):\n",
    "    n = len(a)\n",
    "    for i in range(0, n-1):\n",
    "        if (a[i] > a[i+1] ):\n",
    "            return False\n",
    "    return True\n",
    " \n",
    "# To generate permutation of the array\n",
    "def shuffle(a):\n",
    "    n = len(a)\n",
    "    for i in range (0,n):\n",
    "        r = random.randint(0,n-1)\n",
    "        a[i], a[r] = a[r], a[i]\n",
    " \n",
    "# Driver code to test above\n",
    "a = [3, 2, 4, 1, 0, 5]\n",
    "bogoSort(a)\n",
    "print(\"Sorted array :\")\n",
    "for i in range(len(a)):\n",
    "    print (\"%d\" %a[i]),"
   ]
  }
 ],
 "metadata": {
  "kernelspec": {
   "display_name": "Python 3 (ipykernel)",
   "language": "python",
   "name": "python3"
  },
  "language_info": {
   "codemirror_mode": {
    "name": "ipython",
    "version": 3
   },
   "file_extension": ".py",
   "mimetype": "text/x-python",
   "name": "python",
   "nbconvert_exporter": "python",
   "pygments_lexer": "ipython3",
   "version": "3.9.7"
  }
 },
 "nbformat": 4,
 "nbformat_minor": 5
}
