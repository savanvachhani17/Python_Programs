{
 "cells": [
  {
   "cell_type": "code",
   "execution_count": 1,
   "id": "4ab10b48",
   "metadata": {},
   "outputs": [
    {
     "name": "stdout",
     "output_type": "stream",
     "text": [
      "The negative numbers are:  -10\n",
      "The negative numbers are:  -9\n",
      "The negative numbers are:  -8\n",
      "The negative numbers are:  -7\n",
      "The negative numbers are:  -6\n",
      "The negative numbers are:  -5\n",
      "The negative numbers are:  -4\n",
      "The negative numbers are:  -3\n",
      "The negative numbers are:  -2\n",
      "The negative numbers are:  -1\n"
     ]
    }
   ],
   "source": [
    "# Python program to print all negative numbers in a range\n",
    "for i in range(-10,10,1):\n",
    "    if i<0:\n",
    "        print('The negative numbers are: ',i)\n"
   ]
  },
  {
   "cell_type": "code",
   "execution_count": 60,
   "id": "1f46c5d6",
   "metadata": {},
   "outputs": [
    {
     "name": "stdout",
     "output_type": "stream",
     "text": [
      "New list after removing  [13, 23, 36]\n"
     ]
    }
   ],
   "source": [
    "# Remove multiple elements from a list in Python\n",
    "list =  [12,13,56,23,50,36]\n",
    "\n",
    "for num in list:\n",
    "    if num % 2 == 0:\n",
    "        list.remove(num)\n",
    "\n",
    "print(\"New list after removing \",list)"
   ]
  },
  {
   "cell_type": "code",
   "execution_count": 47,
   "id": "b245fbc7",
   "metadata": {},
   "outputs": [
    {
     "name": "stdout",
     "output_type": "stream",
     "text": [
      "The list after empty list removal [1, 2, 5, 8, 10, 11]\n"
     ]
    }
   ],
   "source": [
    "# write a Python program to Remove empty List from List\n",
    "list=[1,2,5,8,10,[],[],11]\n",
    "num=[i for i in list if i!=[]]\n",
    "print('The list after empty list removal '+str(num))\n"
   ]
  },
  {
   "cell_type": "code",
   "execution_count": 50,
   "id": "b3cfc884",
   "metadata": {},
   "outputs": [
    {
     "name": "stdout",
     "output_type": "stream",
     "text": [
      "5\n"
     ]
    }
   ],
   "source": [
    "# write a Python program to Count occurrences of an element in a list\n",
    "list = ['a','a','a','a','b','b','b','a']\n",
    "\n",
    "print(list.count('a'))"
   ]
  },
  {
   "cell_type": "code",
   "execution_count": 49,
   "id": "32770b22",
   "metadata": {},
   "outputs": [
    {
     "name": "stdout",
     "output_type": "stream",
     "text": [
      "The list after empty list removal [1, 2, 5, 8, 10, 11]\n",
      "The list after empty list removal [('ram', '15', '90'), ('', ''), ('Himanshu', 'kaskar')]\n"
     ]
    }
   ],
   "source": [
    "# write a Python program to Remove empty tuples from a list\n",
    "list=[1,2,5,8,10,(),(),11]\n",
    "num=[i for i in list if i!=()]\n",
    "print('The list after empty list removal '+str(num))\n",
    "\n",
    "# Another example\n",
    "tuples = [(),('ram','15','90'),(),('',''),(),('Himanshu','kaskar')]\n",
    "num=[i for i in tuples if i!=()]\n",
    "print('The list after empty list removal '+str(num))"
   ]
  },
  {
   "cell_type": "code",
   "execution_count": 56,
   "id": "b059a3e1",
   "metadata": {},
   "outputs": [
    {
     "name": "stdout",
     "output_type": "stream",
     "text": [
      "[1, 2, 3, 4, 5, 6, 7]\n",
      "[1, 2, 3, 4, 5, 6, 7]\n"
     ]
    }
   ],
   "source": [
    "# write a Python program to Cloning or Copying a list\n",
    "list_1=[1,2,3,4,5,6,7]\n",
    "def clon(list_1):\n",
    "    list_copy=list_1[:]\n",
    "    return list_1\n",
    "print(list)\n",
    "list_2=clon(list_1)\n",
    "print(list_2)"
   ]
  },
  {
   "cell_type": "code",
   "execution_count": 70,
   "id": "52710ac2",
   "metadata": {},
   "outputs": [
    {
     "name": "stdout",
     "output_type": "stream",
     "text": [
      "[10, 40, 50]\n"
     ]
    }
   ],
   "source": [
    "# write a Python program to Program to print duplicates from a list of integers\n",
    "def repeat(x):\n",
    "    size = len(x)\n",
    "    repeated = []\n",
    "    for i in range(size):\n",
    "        k = i + 1\n",
    "        for j in range(k,size):\n",
    "            if x[i] == x[j] and x[i] not in repeated:\n",
    "                repeated.append(x[i])\n",
    "    return repeated\n",
    "\n",
    "list = [10,20,30,40,50,60,0,-20,2,50,40,10]\n",
    "print(repeat(list))"
   ]
  },
  {
   "cell_type": "code",
   "execution_count": 63,
   "id": "593ae6b2",
   "metadata": {},
   "outputs": [
    {
     "name": "stdout",
     "output_type": "stream",
     "text": [
      "[10, 30, 60, 100, 150, 210, 280, 360, 450, 550]\n"
     ]
    }
   ],
   "source": [
    "# write a Python program to find Cumulative sum of a list\n",
    "list=[10,20,30,40,50,60,70,80,90,100]\n",
    "new_list=[]\n",
    "j=0\n",
    "for i in range(0,len(list)):\n",
    "    j=j+list[i]\n",
    "    new_list.append(j)\n",
    "print(new_list)"
   ]
  },
  {
   "cell_type": "code",
   "execution_count": 66,
   "id": "786182a5",
   "metadata": {},
   "outputs": [
    {
     "name": "stdout",
     "output_type": "stream",
     "text": [
      "8\n"
     ]
    }
   ],
   "source": [
    "# write a Python program to Sum of number digits in List\n",
    "def sumno(n):\n",
    "    sum=0\n",
    "    for i in str(n):\n",
    "        sum=sum+int(i)\n",
    "    return sum\n",
    "\n",
    "print(sumno(1223))\n",
    "    "
   ]
  },
  {
   "cell_type": "code",
   "execution_count": 67,
   "id": "da26f02f",
   "metadata": {},
   "outputs": [
    {
     "name": "stdout",
     "output_type": "stream",
     "text": [
      "[[12, 13, 56, 18], [23, 50]]\n"
     ]
    }
   ],
   "source": [
    "# write a Python program to Break a list into chunks of size N \n",
    "list =  [12,13,56,18,23,50]\n",
    "n = 4\n",
    "x = [list[i:i + n] for i in range(0,len(list),n)]\n",
    "print(x)"
   ]
  },
  {
   "cell_type": "code",
   "execution_count": 69,
   "id": "88475a37",
   "metadata": {},
   "outputs": [
    {
     "name": "stdout",
     "output_type": "stream",
     "text": [
      "['a', 'd', 'f', 'h', 'i', 'b', 'c', 'e', 'g']\n"
     ]
    }
   ],
   "source": [
    "# write a Python program to Sort the values of first list using second list\n",
    "def sort_list(list1,list2):\n",
    "    zipped = zip(list2,list1)\n",
    "    z = [x for _, x in sorted(zipped)]\n",
    "    return z\n",
    "    \n",
    "x = ['a','b','c','d','e','f','g','h','i',]\n",
    "y = [ 0,   1,  1,  0,  1,  0, 1,  0,  0]\n",
    "\n",
    "print(sort_list(x,y))"
   ]
  },
  {
   "cell_type": "code",
   "execution_count": 71,
   "id": "61ba6a5c",
   "metadata": {},
   "outputs": [
    {
     "data": {
      "text/plain": [
       "200"
      ]
     },
     "execution_count": 71,
     "metadata": {},
     "output_type": "execute_result"
    }
   ],
   "source": [
    "# Write a program to get area of a rectangle\n",
    "def area(x,y):\n",
    "    z=x*y\n",
    "    return z\n",
    "area(10,20)"
   ]
  },
  {
   "cell_type": "code",
   "execution_count": null,
   "id": "359c87fe",
   "metadata": {},
   "outputs": [],
   "source": []
  }
 ],
 "metadata": {
  "kernelspec": {
   "display_name": "Python 3 (ipykernel)",
   "language": "python",
   "name": "python3"
  },
  "language_info": {
   "codemirror_mode": {
    "name": "ipython",
    "version": 3
   },
   "file_extension": ".py",
   "mimetype": "text/x-python",
   "name": "python",
   "nbconvert_exporter": "python",
   "pygments_lexer": "ipython3",
   "version": "3.9.7"
  }
 },
 "nbformat": 4,
 "nbformat_minor": 5
}
