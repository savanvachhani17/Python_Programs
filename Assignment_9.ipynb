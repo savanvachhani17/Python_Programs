{
 "cells": [
  {
   "cell_type": "code",
   "execution_count": 27,
   "id": "e350125e",
   "metadata": {},
   "outputs": [
    {
     "name": "stdout",
     "output_type": "stream",
     "text": [
      "The original string is : ineuron is best for Data Analytics\n",
      "String after multiple replace : ineuron is gfg gfg Data Analytics\n"
     ]
    }
   ],
   "source": [
    "# Python – Replace multiple words with K\n",
    "test_str = 'ineuron is best for Data Analytics'\n",
    "  \n",
    "print(\"The original string is : \" + str(test_str))\n",
    "  \n",
    "word_list = [\"best\", 'CS', 'for']\n",
    "  \n",
    "repl_wrd = 'gfg'\n",
    "  \n",
    "res = ' '.join([repl_wrd if idx in word_list else idx for idx in test_str.split()])\n",
    "  \n",
    "print(\"String after multiple replace : \" + str(res)) "
   ]
  },
  {
   "cell_type": "code",
   "execution_count": 34,
   "id": "25f4a627",
   "metadata": {},
   "outputs": [
    {
     "name": "stdout",
     "output_type": "stream",
     "text": [
      "ABC\n",
      "ACB\n",
      "BAC\n",
      "BCA\n",
      "CAB\n",
      "CBA\n"
     ]
    }
   ],
   "source": [
    "# Python | Permutation of a given string using inbuilt function\n",
    "from itertools import permutations\n",
    "  \n",
    "def allPermutations(str):\n",
    "    permList = permutations(str)\n",
    "    for perm in list(permList):\n",
    "        print(''.join(perm))\n",
    "    \n",
    "if __name__ == \"__main__\":\n",
    "    str = 'ABC'\n",
    "    allPermutations(str)"
   ]
  },
  {
   "cell_type": "code",
   "execution_count": 26,
   "id": "dc2bd719",
   "metadata": {},
   "outputs": [
    {
     "name": "stdout",
     "output_type": "stream",
     "text": [
      "Urls:  ['https://github.com/savanvachhani17']\n"
     ]
    }
   ],
   "source": [
    "# Python | Check for URL in a String\n",
    "import re\n",
    "  \n",
    "def Find(string):\n",
    "    regex = r\"(?i)\\b((?:https?://|www\\d{0,3}[.]|[a-z0-9.\\-]+[.][a-z]{2,4}/)(?:[^\\s()<>]+|\\(([^\\s()<>]+|(\\([^\\s()<>]+\\)))*\\))+(?:\\(([^\\s()<>]+|(\\([^\\s()<>]+\\)))*\\)|[^\\s`!()\\[\\]{};:'\\\".,<>?«»“”‘’]))\"\n",
    "    url = re.findall(regex,string)      \n",
    "    return [x[0] for x in url]\n",
    "      \n",
    "# Driver Code\n",
    "string = 'My Profile: https://github.com/savanvachhani17'\n",
    "print(\"Urls: \", Find(string))"
   ]
  },
  {
   "cell_type": "code",
   "execution_count": 36,
   "id": "a985a2d0",
   "metadata": {},
   "outputs": [
    {
     "data": {
      "text/plain": [
       "'Savan is good person and is in Canada'"
      ]
     },
     "execution_count": 36,
     "metadata": {},
     "output_type": "execute_result"
    }
   ],
   "source": [
    "# Execute a String of Code in Python\n",
    "def exe():\n",
    "    xyz='Savan is good person and is in Canada'\n",
    "    return xyz\n",
    "\n",
    "exe()"
   ]
  },
  {
   "cell_type": "code",
   "execution_count": 37,
   "id": "01105df4",
   "metadata": {},
   "outputs": [
    {
     "name": "stdout",
     "output_type": "stream",
     "text": [
      "Left Rotation :  ytonightStud\n",
      "Right Rotation :  ightStudyton\n"
     ]
    }
   ],
   "source": [
    "# String slicing in Python to rotate a string\n",
    "def rotate_string(s,d): \n",
    "  \n",
    "  \n",
    "    Lfirst = s[0 : d] \n",
    "    Lsecond = s[d :] \n",
    "    Rfirst = s[0 : len(s)-d] \n",
    "    Rsecond = s[len(s)-d : ] \n",
    "  \n",
    "    print (\"Left Rotation : \", (Lsecond + Lfirst) )\n",
    "    print (\"Right Rotation : \", (Rsecond + Rfirst)) \n",
    "  \n",
    "\n",
    "string = 'Studytonight'\n",
    "d=4\n",
    "rotate_string(string,d)"
   ]
  },
  {
   "cell_type": "code",
   "execution_count": 39,
   "id": "785d570a",
   "metadata": {},
   "outputs": [
    {
     "name": "stdout",
     "output_type": "stream",
     "text": [
      "false\n"
     ]
    }
   ],
   "source": [
    "# String slicing in Python to check if a string can become empty by recursive deletion\n",
    "def checkEmpty(input, pattern): \n",
    "        \n",
    "    if len(input)== 0 and len(pattern)== 0: \n",
    "         return 'true'\n",
    "    \n",
    "    if len(pattern)== 0: \n",
    "         return 'true'\n",
    "    \n",
    "    while (len(input) != 0): \n",
    "  \n",
    "        index = input.find(pattern) \n",
    "  \n",
    "        if (index ==(-1)): \n",
    "          return 'false'\n",
    "\n",
    "        input = input[0:index] + input[index + len(pattern):]              \n",
    "  \n",
    "    return 'true'\n",
    "    \n",
    "\n",
    "if __name__ == \"__main__\": \n",
    "    input ='SAVANNNSANN'\n",
    "    pattern ='SAVAN'\n",
    "    print (checkEmpty(input, pattern))"
   ]
  },
  {
   "cell_type": "code",
   "execution_count": 24,
   "id": "7584c316",
   "metadata": {},
   "outputs": [
    {
     "name": "stdout",
     "output_type": "stream",
     "text": [
      "a b "
     ]
    }
   ],
   "source": [
    "# Python Counter| Find all duplicate characters in string\n",
    "string = \"Fablabonaki\"\n",
    "\n",
    "duplicates = {}\n",
    "for char in string:\n",
    "    if char in duplicates:\n",
    "        duplicates[char] += 1\n",
    "    else:\n",
    "        duplicates[char] = 1\n",
    "        \n",
    "for key, value in duplicates.items():\n",
    "    if value > 1:\n",
    "        print(key,end=\" \")"
   ]
  },
  {
   "cell_type": "code",
   "execution_count": 43,
   "id": "3142351a",
   "metadata": {},
   "outputs": [
    {
     "name": "stdout",
     "output_type": "stream",
     "text": [
      "The brown-eyed man drives a brown car.\n",
      "The blue-eyed man drives a blue car.\n"
     ]
    }
   ],
   "source": [
    "# Python – Replace all occurrences of a substring in a string\n",
    "string_a = \"The brown-eyed man drives a brown car.\"\n",
    "string_b = string_a.replace(\"brown\", \"blue\")\n",
    "print(string_a)\n",
    "print(string_b)"
   ]
  },
  {
   "cell_type": "code",
   "execution_count": 23,
   "id": "1438f7f4",
   "metadata": {},
   "outputs": [
    {
     "name": "stdout",
     "output_type": "stream",
     "text": [
      "[0, 3, 5, 7, 8, 11, 12, 22, 31, 45, 51, 56, 63, 77, 89, 90]\n"
     ]
    }
   ],
   "source": [
    "my_dict = {'hi' : [5,3,8, 0],\n",
    "   'there' : [22, 51, 63, 77],\n",
    "   'how' : [7, 0, 22],\n",
    "   'are' : [12, 11, 45],\n",
    "   'you' : [56, 31, 89, 90]}\n",
    "result=sorted({elem for val in my_dict.values() for elem in val})\n",
    "print(result)"
   ]
  },
  {
   "cell_type": "code",
   "execution_count": 22,
   "id": "6b21776c",
   "metadata": {},
   "outputs": [
    {
     "name": "stdout",
     "output_type": "stream",
     "text": [
      "350\n"
     ]
    }
   ],
   "source": [
    "# Python program to find the sum of all items in a dictionary\n",
    "def dicty(dict):\n",
    "    lst=[]\n",
    "    for i in dict:\n",
    "        lst.append(dict[i])\n",
    "    final=sum(lst)\n",
    "    return final\n",
    "dict={'a':100,'b':200,'c':50}\n",
    "print(dicty(dict))"
   ]
  }
 ],
 "metadata": {
  "kernelspec": {
   "display_name": "Python 3 (ipykernel)",
   "language": "python",
   "name": "python3"
  },
  "language_info": {
   "codemirror_mode": {
    "name": "ipython",
    "version": 3
   },
   "file_extension": ".py",
   "mimetype": "text/x-python",
   "name": "python",
   "nbconvert_exporter": "python",
   "pygments_lexer": "ipython3",
   "version": "3.9.7"
  }
 },
 "nbformat": 4,
 "nbformat_minor": 5
}
